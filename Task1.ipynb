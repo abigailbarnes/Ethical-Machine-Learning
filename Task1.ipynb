{
 "cells": [
  {
   "cell_type": "code",
   "execution_count": 1,
   "id": "f2e09791",
   "metadata": {},
   "outputs": [
    {
     "name": "stdout",
     "output_type": "stream",
     "text": [
      "            id                                               name    host_id  \\\n",
      "0         2384  Hyde Park - Walk to UChicago, 10 min to McCormick       2613   \n",
      "1         4505  394 Great Reviews. 127 y/o House. 40 yds to tr...       5775   \n",
      "2         7126                Tiny Studio Apartment 94 Walk Score      17928   \n",
      "3         9811                      Barbara's Hideaway - Old Town      33004   \n",
      "4        10610                   3 Comforts of Cooperative Living       2140   \n",
      "...        ...                                                ...        ...   \n",
      "6392  45514091   Best view of Chicago downtown + optional parking  367907062   \n",
      "6393  45514389   Luxurious 3Br/2Ba with optional parking and View  367907062   \n",
      "6394  45514632  Two story Penthouse w private Rooftop & Great ...  367907062   \n",
      "6395  45515281                             West Town Private Room  347064639   \n",
      "6396  45515581            Chicago Themed Private Garden Apartment   19541995   \n",
      "\n",
      "             host_name  neighbourhood_group    neighbourhood  latitude  \\\n",
      "0              Rebecca                  NaN        Hyde Park  41.78790   \n",
      "1     Craig & Kathleen                  NaN   South Lawndale  41.85495   \n",
      "2                Sarah                  NaN        West Town  41.90289   \n",
      "3          At Home Inn                  NaN     Lincoln Park  41.91769   \n",
      "4                 Lois                  NaN        Hyde Park  41.79612   \n",
      "...                ...                  ...              ...       ...   \n",
      "6392  Melanie And Ryan                  NaN  Near South Side  41.85574   \n",
      "6393  Melanie And Ryan                  NaN  Near South Side  41.85561   \n",
      "6394  Melanie And Ryan                  NaN  Near South Side  41.85584   \n",
      "6395               Ali                  NaN        West Town  41.89005   \n",
      "6396            Kendal                  NaN          Douglas  41.82964   \n",
      "\n",
      "      longitude        room_type  price  minimum_nights  number_of_reviews  \\\n",
      "0     -87.58780     Private room     60               2                178   \n",
      "1     -87.69696  Entire home/apt    105               2                395   \n",
      "2     -87.68182  Entire home/apt     60               2                384   \n",
      "3     -87.63788  Entire home/apt     65               4                 49   \n",
      "4     -87.59261     Private room     21               1                 44   \n",
      "...         ...              ...    ...             ...                ...   \n",
      "6392  -87.62507  Entire home/apt    146               2                  0   \n",
      "6393  -87.62342  Entire home/apt    195               2                  0   \n",
      "6394  -87.62404  Entire home/apt    493               2                  0   \n",
      "6395  -87.66668     Private room     53              32                  0   \n",
      "6396  -87.62048  Entire home/apt     61               1                  0   \n",
      "\n",
      "     last_review  reviews_per_month  calculated_host_listings_count  \\\n",
      "0     2019-12-15               2.56                               1   \n",
      "1     2020-07-14               2.81                               1   \n",
      "2     2020-03-08               2.81                               1   \n",
      "3     2019-10-23               0.63                               9   \n",
      "4     2020-02-14               0.61                               5   \n",
      "...          ...                ...                             ...   \n",
      "6392         NaN                NaN                               4   \n",
      "6393         NaN                NaN                               4   \n",
      "6394         NaN                NaN                               4   \n",
      "6395         NaN                NaN                               1   \n",
      "6396         NaN                NaN                               1   \n",
      "\n",
      "      availability_365  \n",
      "0                  353  \n",
      "1                  155  \n",
      "2                  321  \n",
      "3                  300  \n",
      "4                  168  \n",
      "...                ...  \n",
      "6392               180  \n",
      "6393               180  \n",
      "6394               177  \n",
      "6395                83  \n",
      "6396               170  \n",
      "\n",
      "[6397 rows x 16 columns]\n"
     ]
    }
   ],
   "source": [
    "#read in the list file for a CSV\n",
    "import pandas as pd\n",
    "df = pd.read_csv ('/Users/christopherbarnes/cmsc25910/Assignment6/listings.csv')\n",
    "print(df)"
   ]
  },
  {
   "cell_type": "code",
   "execution_count": 2,
   "id": "8cdef718",
   "metadata": {},
   "outputs": [
    {
     "name": "stdout",
     "output_type": "stream",
     "text": [
      "Index(['id', 'name', 'host_id', 'host_name', 'neighbourhood_group',\n",
      "       'neighbourhood', 'latitude', 'longitude', 'room_type', 'price',\n",
      "       'minimum_nights', 'number_of_reviews', 'last_review',\n",
      "       'reviews_per_month', 'calculated_host_listings_count',\n",
      "       'availability_365'],\n",
      "      dtype='object')\n"
     ]
    }
   ],
   "source": [
    "print(df.columns)"
   ]
  },
  {
   "cell_type": "code",
   "execution_count": 3,
   "id": "3e014b2d",
   "metadata": {},
   "outputs": [
    {
     "data": {
      "text/html": [
       "<div>\n",
       "<style scoped>\n",
       "    .dataframe tbody tr th:only-of-type {\n",
       "        vertical-align: middle;\n",
       "    }\n",
       "\n",
       "    .dataframe tbody tr th {\n",
       "        vertical-align: top;\n",
       "    }\n",
       "\n",
       "    .dataframe thead th {\n",
       "        text-align: right;\n",
       "    }\n",
       "</style>\n",
       "<table border=\"1\" class=\"dataframe\">\n",
       "  <thead>\n",
       "    <tr style=\"text-align: right;\">\n",
       "      <th></th>\n",
       "      <th>neighbourhood_group</th>\n",
       "      <th>neighbourhood</th>\n",
       "      <th>latitude</th>\n",
       "      <th>longitude</th>\n",
       "      <th>room_type</th>\n",
       "      <th>price</th>\n",
       "      <th>minimum_nights</th>\n",
       "      <th>number_of_reviews</th>\n",
       "      <th>last_review</th>\n",
       "      <th>reviews_per_month</th>\n",
       "      <th>calculated_host_listings_count</th>\n",
       "      <th>availability_365</th>\n",
       "    </tr>\n",
       "  </thead>\n",
       "  <tbody>\n",
       "    <tr>\n",
       "      <th>0</th>\n",
       "      <td>NaN</td>\n",
       "      <td>Hyde Park</td>\n",
       "      <td>41.78790</td>\n",
       "      <td>-87.58780</td>\n",
       "      <td>Private room</td>\n",
       "      <td>60</td>\n",
       "      <td>2</td>\n",
       "      <td>178</td>\n",
       "      <td>2019-12-15</td>\n",
       "      <td>2.56</td>\n",
       "      <td>1</td>\n",
       "      <td>353</td>\n",
       "    </tr>\n",
       "    <tr>\n",
       "      <th>1</th>\n",
       "      <td>NaN</td>\n",
       "      <td>South Lawndale</td>\n",
       "      <td>41.85495</td>\n",
       "      <td>-87.69696</td>\n",
       "      <td>Entire home/apt</td>\n",
       "      <td>105</td>\n",
       "      <td>2</td>\n",
       "      <td>395</td>\n",
       "      <td>2020-07-14</td>\n",
       "      <td>2.81</td>\n",
       "      <td>1</td>\n",
       "      <td>155</td>\n",
       "    </tr>\n",
       "    <tr>\n",
       "      <th>2</th>\n",
       "      <td>NaN</td>\n",
       "      <td>West Town</td>\n",
       "      <td>41.90289</td>\n",
       "      <td>-87.68182</td>\n",
       "      <td>Entire home/apt</td>\n",
       "      <td>60</td>\n",
       "      <td>2</td>\n",
       "      <td>384</td>\n",
       "      <td>2020-03-08</td>\n",
       "      <td>2.81</td>\n",
       "      <td>1</td>\n",
       "      <td>321</td>\n",
       "    </tr>\n",
       "    <tr>\n",
       "      <th>3</th>\n",
       "      <td>NaN</td>\n",
       "      <td>Lincoln Park</td>\n",
       "      <td>41.91769</td>\n",
       "      <td>-87.63788</td>\n",
       "      <td>Entire home/apt</td>\n",
       "      <td>65</td>\n",
       "      <td>4</td>\n",
       "      <td>49</td>\n",
       "      <td>2019-10-23</td>\n",
       "      <td>0.63</td>\n",
       "      <td>9</td>\n",
       "      <td>300</td>\n",
       "    </tr>\n",
       "    <tr>\n",
       "      <th>4</th>\n",
       "      <td>NaN</td>\n",
       "      <td>Hyde Park</td>\n",
       "      <td>41.79612</td>\n",
       "      <td>-87.59261</td>\n",
       "      <td>Private room</td>\n",
       "      <td>21</td>\n",
       "      <td>1</td>\n",
       "      <td>44</td>\n",
       "      <td>2020-02-14</td>\n",
       "      <td>0.61</td>\n",
       "      <td>5</td>\n",
       "      <td>168</td>\n",
       "    </tr>\n",
       "    <tr>\n",
       "      <th>...</th>\n",
       "      <td>...</td>\n",
       "      <td>...</td>\n",
       "      <td>...</td>\n",
       "      <td>...</td>\n",
       "      <td>...</td>\n",
       "      <td>...</td>\n",
       "      <td>...</td>\n",
       "      <td>...</td>\n",
       "      <td>...</td>\n",
       "      <td>...</td>\n",
       "      <td>...</td>\n",
       "      <td>...</td>\n",
       "    </tr>\n",
       "    <tr>\n",
       "      <th>6392</th>\n",
       "      <td>NaN</td>\n",
       "      <td>Near South Side</td>\n",
       "      <td>41.85574</td>\n",
       "      <td>-87.62507</td>\n",
       "      <td>Entire home/apt</td>\n",
       "      <td>146</td>\n",
       "      <td>2</td>\n",
       "      <td>0</td>\n",
       "      <td>NaN</td>\n",
       "      <td>NaN</td>\n",
       "      <td>4</td>\n",
       "      <td>180</td>\n",
       "    </tr>\n",
       "    <tr>\n",
       "      <th>6393</th>\n",
       "      <td>NaN</td>\n",
       "      <td>Near South Side</td>\n",
       "      <td>41.85561</td>\n",
       "      <td>-87.62342</td>\n",
       "      <td>Entire home/apt</td>\n",
       "      <td>195</td>\n",
       "      <td>2</td>\n",
       "      <td>0</td>\n",
       "      <td>NaN</td>\n",
       "      <td>NaN</td>\n",
       "      <td>4</td>\n",
       "      <td>180</td>\n",
       "    </tr>\n",
       "    <tr>\n",
       "      <th>6394</th>\n",
       "      <td>NaN</td>\n",
       "      <td>Near South Side</td>\n",
       "      <td>41.85584</td>\n",
       "      <td>-87.62404</td>\n",
       "      <td>Entire home/apt</td>\n",
       "      <td>493</td>\n",
       "      <td>2</td>\n",
       "      <td>0</td>\n",
       "      <td>NaN</td>\n",
       "      <td>NaN</td>\n",
       "      <td>4</td>\n",
       "      <td>177</td>\n",
       "    </tr>\n",
       "    <tr>\n",
       "      <th>6395</th>\n",
       "      <td>NaN</td>\n",
       "      <td>West Town</td>\n",
       "      <td>41.89005</td>\n",
       "      <td>-87.66668</td>\n",
       "      <td>Private room</td>\n",
       "      <td>53</td>\n",
       "      <td>32</td>\n",
       "      <td>0</td>\n",
       "      <td>NaN</td>\n",
       "      <td>NaN</td>\n",
       "      <td>1</td>\n",
       "      <td>83</td>\n",
       "    </tr>\n",
       "    <tr>\n",
       "      <th>6396</th>\n",
       "      <td>NaN</td>\n",
       "      <td>Douglas</td>\n",
       "      <td>41.82964</td>\n",
       "      <td>-87.62048</td>\n",
       "      <td>Entire home/apt</td>\n",
       "      <td>61</td>\n",
       "      <td>1</td>\n",
       "      <td>0</td>\n",
       "      <td>NaN</td>\n",
       "      <td>NaN</td>\n",
       "      <td>1</td>\n",
       "      <td>170</td>\n",
       "    </tr>\n",
       "  </tbody>\n",
       "</table>\n",
       "<p>6397 rows × 12 columns</p>\n",
       "</div>"
      ],
      "text/plain": [
       "      neighbourhood_group    neighbourhood  latitude  longitude  \\\n",
       "0                     NaN        Hyde Park  41.78790  -87.58780   \n",
       "1                     NaN   South Lawndale  41.85495  -87.69696   \n",
       "2                     NaN        West Town  41.90289  -87.68182   \n",
       "3                     NaN     Lincoln Park  41.91769  -87.63788   \n",
       "4                     NaN        Hyde Park  41.79612  -87.59261   \n",
       "...                   ...              ...       ...        ...   \n",
       "6392                  NaN  Near South Side  41.85574  -87.62507   \n",
       "6393                  NaN  Near South Side  41.85561  -87.62342   \n",
       "6394                  NaN  Near South Side  41.85584  -87.62404   \n",
       "6395                  NaN        West Town  41.89005  -87.66668   \n",
       "6396                  NaN          Douglas  41.82964  -87.62048   \n",
       "\n",
       "            room_type  price  minimum_nights  number_of_reviews last_review  \\\n",
       "0        Private room     60               2                178  2019-12-15   \n",
       "1     Entire home/apt    105               2                395  2020-07-14   \n",
       "2     Entire home/apt     60               2                384  2020-03-08   \n",
       "3     Entire home/apt     65               4                 49  2019-10-23   \n",
       "4        Private room     21               1                 44  2020-02-14   \n",
       "...               ...    ...             ...                ...         ...   \n",
       "6392  Entire home/apt    146               2                  0         NaN   \n",
       "6393  Entire home/apt    195               2                  0         NaN   \n",
       "6394  Entire home/apt    493               2                  0         NaN   \n",
       "6395     Private room     53              32                  0         NaN   \n",
       "6396  Entire home/apt     61               1                  0         NaN   \n",
       "\n",
       "      reviews_per_month  calculated_host_listings_count  availability_365  \n",
       "0                  2.56                               1               353  \n",
       "1                  2.81                               1               155  \n",
       "2                  2.81                               1               321  \n",
       "3                  0.63                               9               300  \n",
       "4                  0.61                               5               168  \n",
       "...                 ...                             ...               ...  \n",
       "6392                NaN                               4               180  \n",
       "6393                NaN                               4               180  \n",
       "6394                NaN                               4               177  \n",
       "6395                NaN                               1                83  \n",
       "6396                NaN                               1               170  \n",
       "\n",
       "[6397 rows x 12 columns]"
      ]
     },
     "execution_count": 3,
     "metadata": {},
     "output_type": "execute_result"
    }
   ],
   "source": [
    "df.drop(columns= ['id', 'name', 'host_id', 'host_name'])"
   ]
  },
  {
   "cell_type": "code",
   "execution_count": 4,
   "id": "80231b93",
   "metadata": {},
   "outputs": [],
   "source": [
    "import numpy as np\n",
    "import pandas as pd\n",
    "import matplotlib.pyplot as plt\n",
    "import seaborn as sns\n",
    "from sklearn.linear_model import LinearRegression\n",
    "from sklearn.linear_model import Lasso, Ridge, ElasticNet\n",
    "from sklearn.ensemble import RandomForestRegressor,GradientBoostingRegressor\n",
    "from sklearn.model_selection import train_test_split\n",
    "from sklearn.pipeline import make_pipeline\n",
    "from sklearn.preprocessing import StandardScaler\n",
    "from sklearn.model_selection import GridSearchCV\n",
    "from sklearn.metrics import r2_score,mean_absolute_error \n",
    "import pickle"
   ]
  },
  {
   "cell_type": "code",
   "execution_count": 5,
   "id": "8d6d3ea6",
   "metadata": {},
   "outputs": [
    {
     "data": {
      "text/plain": [
       "array([[<AxesSubplot:title={'center':'id'}>,\n",
       "        <AxesSubplot:title={'center':'host_id'}>,\n",
       "        <AxesSubplot:title={'center':'neighbourhood_group'}>],\n",
       "       [<AxesSubplot:title={'center':'latitude'}>,\n",
       "        <AxesSubplot:title={'center':'longitude'}>,\n",
       "        <AxesSubplot:title={'center':'price'}>],\n",
       "       [<AxesSubplot:title={'center':'minimum_nights'}>,\n",
       "        <AxesSubplot:title={'center':'number_of_reviews'}>,\n",
       "        <AxesSubplot:title={'center':'reviews_per_month'}>],\n",
       "       [<AxesSubplot:title={'center':'calculated_host_listings_count'}>,\n",
       "        <AxesSubplot:title={'center':'availability_365'}>,\n",
       "        <AxesSubplot:>]], dtype=object)"
      ]
     },
     "execution_count": 5,
     "metadata": {},
     "output_type": "execute_result"
    },
    {
     "data": {
      "image/png": "[encoded data removed]",
      "text/plain": [
       "<Figure size 1440x1440 with 12 Axes>"
      ]
     },
     "metadata": {
      "needs_background": "light"
     },
     "output_type": "display_data"
    }
   ],
   "source": [
    "df.hist(figsize=(20,20), xrot=-45)"
   ]
  },
  {
   "cell_type": "code",
   "execution_count": 6,
   "id": "62dd58f7",
   "metadata": {},
   "outputs": [
    {
     "data": {
      "text/plain": [
       "<AxesSubplot:xlabel='price'>"
      ]
     },
     "execution_count": 6,
     "metadata": {},
     "output_type": "execute_result"
    },
    {
     "data": {
      "image/png": "[encoded data removed]",
      "text/plain": [
       "<Figure size 432x288 with 1 Axes>"
      ]
     },
     "metadata": {
      "needs_background": "light"
     },
     "output_type": "display_data"
    }
   ],
   "source": [
    "sns.violinplot(data=df, x='price')"
   ]
  },
  {
   "cell_type": "code",
   "execution_count": 7,
   "id": "9a2c89b6",
   "metadata": {},
   "outputs": [
    {
     "data": {
      "text/plain": [
       "id                                   0\n",
       "host_id                              0\n",
       "neighbourhood_group               6397\n",
       "latitude                             0\n",
       "longitude                            0\n",
       "price                                0\n",
       "minimum_nights                       0\n",
       "number_of_reviews                    0\n",
       "reviews_per_month                 1132\n",
       "calculated_host_listings_count       0\n",
       "availability_365                     0\n",
       "dtype: int64"
      ]
     },
     "execution_count": 7,
     "metadata": {},
     "output_type": "execute_result"
    }
   ],
   "source": [
    "df.select_dtypes(exclude=['object']).isnull().sum()"
   ]
  },
  {
   "cell_type": "code",
   "execution_count": 8,
   "id": "596c281c",
   "metadata": {},
   "outputs": [
    {
     "name": "stdout",
     "output_type": "stream",
     "text": [
      "Index(['id', 'name', 'host_id', 'host_name', 'neighbourhood', 'latitude',\n",
      "       'longitude', 'room_type', 'price', 'minimum_nights',\n",
      "       'number_of_reviews', 'last_review', 'reviews_per_month',\n",
      "       'calculated_host_listings_count', 'availability_365'],\n",
      "      dtype='object')\n"
     ]
    }
   ],
   "source": [
    "#removing neighborhood groups since there isnt data there\n",
    "df_new = df.drop('neighbourhood_group', axis=1)\n",
    "df = df_new\n",
    "#df.drop(columns = ['neighbourhood_group'])\n",
    "print(df.columns)"
   ]
  },
  {
   "cell_type": "code",
   "execution_count": 9,
   "id": "c6a565c9",
   "metadata": {},
   "outputs": [
    {
     "data": {
      "text/plain": [
       "id                                0\n",
       "host_id                           0\n",
       "latitude                          0\n",
       "longitude                         0\n",
       "price                             0\n",
       "minimum_nights                    0\n",
       "number_of_reviews                 0\n",
       "reviews_per_month                 0\n",
       "calculated_host_listings_count    0\n",
       "availability_365                  0\n",
       "dtype: int64"
      ]
     },
     "execution_count": 9,
     "metadata": {},
     "output_type": "execute_result"
    }
   ],
   "source": [
    "#filling in the spots with 0 where there are no reviews per month\n",
    "df.reviews_per_month.fillna(0, inplace=True)\n",
    "df.select_dtypes(exclude=['object']).isnull().sum()"
   ]
  },
  {
   "cell_type": "code",
   "execution_count": 10,
   "id": "6ff422b2",
   "metadata": {},
   "outputs": [
    {
     "data": {
      "text/html": [
       "<div>\n",
       "<style scoped>\n",
       "    .dataframe tbody tr th:only-of-type {\n",
       "        vertical-align: middle;\n",
       "    }\n",
       "\n",
       "    .dataframe tbody tr th {\n",
       "        vertical-align: top;\n",
       "    }\n",
       "\n",
       "    .dataframe thead th {\n",
       "        text-align: right;\n",
       "    }\n",
       "</style>\n",
       "<table border=\"1\" class=\"dataframe\">\n",
       "  <thead>\n",
       "    <tr style=\"text-align: right;\">\n",
       "      <th></th>\n",
       "      <th>id</th>\n",
       "      <th>name</th>\n",
       "      <th>host_id</th>\n",
       "      <th>host_name</th>\n",
       "      <th>neighbourhood</th>\n",
       "      <th>latitude</th>\n",
       "      <th>longitude</th>\n",
       "      <th>room_type</th>\n",
       "      <th>price</th>\n",
       "      <th>minimum_nights</th>\n",
       "      <th>number_of_reviews</th>\n",
       "      <th>last_review</th>\n",
       "      <th>reviews_per_month</th>\n",
       "      <th>calculated_host_listings_count</th>\n",
       "      <th>availability_365</th>\n",
       "    </tr>\n",
       "  </thead>\n",
       "  <tbody>\n",
       "    <tr>\n",
       "      <th>0</th>\n",
       "      <td>2384</td>\n",
       "      <td>Hyde Park - Walk to UChicago, 10 min to McCormick</td>\n",
       "      <td>2613</td>\n",
       "      <td>Rebecca</td>\n",
       "      <td>Hyde Park</td>\n",
       "      <td>41.78790</td>\n",
       "      <td>-87.58780</td>\n",
       "      <td>Private room</td>\n",
       "      <td>60</td>\n",
       "      <td>2</td>\n",
       "      <td>178</td>\n",
       "      <td>2019-12-15</td>\n",
       "      <td>2.56</td>\n",
       "      <td>1</td>\n",
       "      <td>353</td>\n",
       "    </tr>\n",
       "    <tr>\n",
       "      <th>1</th>\n",
       "      <td>4505</td>\n",
       "      <td>394 Great Reviews. 127 y/o House. 40 yds to tr...</td>\n",
       "      <td>5775</td>\n",
       "      <td>Craig &amp; Kathleen</td>\n",
       "      <td>South Lawndale</td>\n",
       "      <td>41.85495</td>\n",
       "      <td>-87.69696</td>\n",
       "      <td>Entire home/apt</td>\n",
       "      <td>105</td>\n",
       "      <td>2</td>\n",
       "      <td>395</td>\n",
       "      <td>2020-07-14</td>\n",
       "      <td>2.81</td>\n",
       "      <td>1</td>\n",
       "      <td>155</td>\n",
       "    </tr>\n",
       "    <tr>\n",
       "      <th>2</th>\n",
       "      <td>7126</td>\n",
       "      <td>Tiny Studio Apartment 94 Walk Score</td>\n",
       "      <td>17928</td>\n",
       "      <td>Sarah</td>\n",
       "      <td>West Town</td>\n",
       "      <td>41.90289</td>\n",
       "      <td>-87.68182</td>\n",
       "      <td>Entire home/apt</td>\n",
       "      <td>60</td>\n",
       "      <td>2</td>\n",
       "      <td>384</td>\n",
       "      <td>2020-03-08</td>\n",
       "      <td>2.81</td>\n",
       "      <td>1</td>\n",
       "      <td>321</td>\n",
       "    </tr>\n",
       "    <tr>\n",
       "      <th>3</th>\n",
       "      <td>9811</td>\n",
       "      <td>Barbara's Hideaway - Old Town</td>\n",
       "      <td>33004</td>\n",
       "      <td>At Home Inn</td>\n",
       "      <td>Lincoln Park</td>\n",
       "      <td>41.91769</td>\n",
       "      <td>-87.63788</td>\n",
       "      <td>Entire home/apt</td>\n",
       "      <td>65</td>\n",
       "      <td>4</td>\n",
       "      <td>49</td>\n",
       "      <td>2019-10-23</td>\n",
       "      <td>0.63</td>\n",
       "      <td>9</td>\n",
       "      <td>300</td>\n",
       "    </tr>\n",
       "    <tr>\n",
       "      <th>4</th>\n",
       "      <td>10610</td>\n",
       "      <td>3 Comforts of Cooperative Living</td>\n",
       "      <td>2140</td>\n",
       "      <td>Lois</td>\n",
       "      <td>Hyde Park</td>\n",
       "      <td>41.79612</td>\n",
       "      <td>-87.59261</td>\n",
       "      <td>Private room</td>\n",
       "      <td>21</td>\n",
       "      <td>1</td>\n",
       "      <td>44</td>\n",
       "      <td>2020-02-14</td>\n",
       "      <td>0.61</td>\n",
       "      <td>5</td>\n",
       "      <td>168</td>\n",
       "    </tr>\n",
       "    <tr>\n",
       "      <th>...</th>\n",
       "      <td>...</td>\n",
       "      <td>...</td>\n",
       "      <td>...</td>\n",
       "      <td>...</td>\n",
       "      <td>...</td>\n",
       "      <td>...</td>\n",
       "      <td>...</td>\n",
       "      <td>...</td>\n",
       "      <td>...</td>\n",
       "      <td>...</td>\n",
       "      <td>...</td>\n",
       "      <td>...</td>\n",
       "      <td>...</td>\n",
       "      <td>...</td>\n",
       "      <td>...</td>\n",
       "    </tr>\n",
       "    <tr>\n",
       "      <th>6318</th>\n",
       "      <td>45351578</td>\n",
       "      <td>Spacious Modern Vibe Avondale/Logan -Entire Apt</td>\n",
       "      <td>77382816</td>\n",
       "      <td>Edmund</td>\n",
       "      <td>Avondale</td>\n",
       "      <td>41.94060</td>\n",
       "      <td>-87.72281</td>\n",
       "      <td>Entire home/apt</td>\n",
       "      <td>67</td>\n",
       "      <td>1</td>\n",
       "      <td>2</td>\n",
       "      <td>2020-09-20</td>\n",
       "      <td>2.00</td>\n",
       "      <td>1</td>\n",
       "      <td>307</td>\n",
       "    </tr>\n",
       "    <tr>\n",
       "      <th>6325</th>\n",
       "      <td>45368527</td>\n",
       "      <td>Private Bedroom in Chicago Near Lincoln Square...</td>\n",
       "      <td>128265803</td>\n",
       "      <td>Victor</td>\n",
       "      <td>North Park</td>\n",
       "      <td>41.99222</td>\n",
       "      <td>-87.71659</td>\n",
       "      <td>Private room</td>\n",
       "      <td>24</td>\n",
       "      <td>1</td>\n",
       "      <td>2</td>\n",
       "      <td>2020-09-20</td>\n",
       "      <td>2.00</td>\n",
       "      <td>4</td>\n",
       "      <td>14</td>\n",
       "    </tr>\n",
       "    <tr>\n",
       "      <th>6329</th>\n",
       "      <td>45386114</td>\n",
       "      <td>BEST PRICE for a studio in Wrigleyville-Boystown</td>\n",
       "      <td>324740940</td>\n",
       "      <td>Andrea</td>\n",
       "      <td>Uptown</td>\n",
       "      <td>41.95513</td>\n",
       "      <td>-87.65095</td>\n",
       "      <td>Entire home/apt</td>\n",
       "      <td>97</td>\n",
       "      <td>1</td>\n",
       "      <td>2</td>\n",
       "      <td>2020-09-19</td>\n",
       "      <td>2.00</td>\n",
       "      <td>4</td>\n",
       "      <td>81</td>\n",
       "    </tr>\n",
       "    <tr>\n",
       "      <th>6349</th>\n",
       "      <td>45433310</td>\n",
       "      <td>Luxury King size (78*82) bedroom with free par...</td>\n",
       "      <td>111872967</td>\n",
       "      <td>Julie</td>\n",
       "      <td>Near West Side</td>\n",
       "      <td>41.87195</td>\n",
       "      <td>-87.66456</td>\n",
       "      <td>Private room</td>\n",
       "      <td>54</td>\n",
       "      <td>1</td>\n",
       "      <td>1</td>\n",
       "      <td>2020-09-18</td>\n",
       "      <td>1.00</td>\n",
       "      <td>4</td>\n",
       "      <td>359</td>\n",
       "    </tr>\n",
       "    <tr>\n",
       "      <th>6366</th>\n",
       "      <td>45465696</td>\n",
       "      <td>Cozy Garden Room in the middle of Boystown!</td>\n",
       "      <td>8803468</td>\n",
       "      <td>Ashley</td>\n",
       "      <td>Lake View</td>\n",
       "      <td>41.94578</td>\n",
       "      <td>-87.64852</td>\n",
       "      <td>Private room</td>\n",
       "      <td>92</td>\n",
       "      <td>1</td>\n",
       "      <td>1</td>\n",
       "      <td>2020-09-19</td>\n",
       "      <td>1.00</td>\n",
       "      <td>4</td>\n",
       "      <td>330</td>\n",
       "    </tr>\n",
       "  </tbody>\n",
       "</table>\n",
       "<p>5265 rows × 15 columns</p>\n",
       "</div>"
      ],
      "text/plain": [
       "            id                                               name    host_id  \\\n",
       "0         2384  Hyde Park - Walk to UChicago, 10 min to McCormick       2613   \n",
       "1         4505  394 Great Reviews. 127 y/o House. 40 yds to tr...       5775   \n",
       "2         7126                Tiny Studio Apartment 94 Walk Score      17928   \n",
       "3         9811                      Barbara's Hideaway - Old Town      33004   \n",
       "4        10610                   3 Comforts of Cooperative Living       2140   \n",
       "...        ...                                                ...        ...   \n",
       "6318  45351578    Spacious Modern Vibe Avondale/Logan -Entire Apt   77382816   \n",
       "6325  45368527  Private Bedroom in Chicago Near Lincoln Square...  128265803   \n",
       "6329  45386114   BEST PRICE for a studio in Wrigleyville-Boystown  324740940   \n",
       "6349  45433310  Luxury King size (78*82) bedroom with free par...  111872967   \n",
       "6366  45465696        Cozy Garden Room in the middle of Boystown!    8803468   \n",
       "\n",
       "             host_name   neighbourhood  latitude  longitude        room_type  \\\n",
       "0              Rebecca       Hyde Park  41.78790  -87.58780     Private room   \n",
       "1     Craig & Kathleen  South Lawndale  41.85495  -87.69696  Entire home/apt   \n",
       "2                Sarah       West Town  41.90289  -87.68182  Entire home/apt   \n",
       "3          At Home Inn    Lincoln Park  41.91769  -87.63788  Entire home/apt   \n",
       "4                 Lois       Hyde Park  41.79612  -87.59261     Private room   \n",
       "...                ...             ...       ...        ...              ...   \n",
       "6318            Edmund        Avondale  41.94060  -87.72281  Entire home/apt   \n",
       "6325            Victor      North Park  41.99222  -87.71659     Private room   \n",
       "6329            Andrea          Uptown  41.95513  -87.65095  Entire home/apt   \n",
       "6349             Julie  Near West Side  41.87195  -87.66456     Private room   \n",
       "6366            Ashley       Lake View  41.94578  -87.64852     Private room   \n",
       "\n",
       "      price  minimum_nights  number_of_reviews last_review  reviews_per_month  \\\n",
       "0        60               2                178  2019-12-15               2.56   \n",
       "1       105               2                395  2020-07-14               2.81   \n",
       "2        60               2                384  2020-03-08               2.81   \n",
       "3        65               4                 49  2019-10-23               0.63   \n",
       "4        21               1                 44  2020-02-14               0.61   \n",
       "...     ...             ...                ...         ...                ...   \n",
       "6318     67               1                  2  2020-09-20               2.00   \n",
       "6325     24               1                  2  2020-09-20               2.00   \n",
       "6329     97               1                  2  2020-09-19               2.00   \n",
       "6349     54               1                  1  2020-09-18               1.00   \n",
       "6366     92               1                  1  2020-09-19               1.00   \n",
       "\n",
       "      calculated_host_listings_count  availability_365  \n",
       "0                                  1               353  \n",
       "1                                  1               155  \n",
       "2                                  1               321  \n",
       "3                                  9               300  \n",
       "4                                  5               168  \n",
       "...                              ...               ...  \n",
       "6318                               1               307  \n",
       "6325                               4                14  \n",
       "6329                               4                81  \n",
       "6349                               4               359  \n",
       "6366                               4               330  \n",
       "\n",
       "[5265 rows x 15 columns]"
      ]
     },
     "execution_count": 10,
     "metadata": {},
     "output_type": "execute_result"
    }
   ],
   "source": [
    "df.dropna(axis=0)"
   ]
  },
  {
   "cell_type": "code",
   "execution_count": 11,
   "id": "d7649d40",
   "metadata": {},
   "outputs": [
    {
     "data": {
      "text/plain": [
       "<AxesSubplot:>"
      ]
     },
     "execution_count": 11,
     "metadata": {},
     "output_type": "execute_result"
    },
    {
     "data": {
      "image/png": "[encoded data removed]",
      "text/plain": [
       "<Figure size 432x288 with 2 Axes>"
      ]
     },
     "metadata": {
      "needs_background": "light"
     },
     "output_type": "display_data"
    }
   ],
   "source": [
    "# mask out upper triangle\n",
    "mask = np.zeros_like(df.corr(), dtype=bool)\n",
    "mask[np.triu_indices_from(mask)] = True\n",
    "# heatmap\n",
    "sns.heatmap(df.corr()*100, \n",
    "           cmap='RdBu_r', \n",
    "           annot = True, \n",
    "           mask = mask)"
   ]
  },
  {
   "cell_type": "code",
   "execution_count": 12,
   "id": "f525554c",
   "metadata": {},
   "outputs": [],
   "source": [
    "lat = df['latitude']\n",
    "long = df['longitude']\n",
    "\n",
    "#print(len(lat))\n",
    "#print(len(long))\n",
    "\n",
    "def truncatingcoor():\n",
    "    i = 0\n",
    "    templat = []\n",
    "    templong = []\n",
    "    \n",
    "    while i < len(lat):\n",
    "        templat.append(round(lat[i], 1))\n",
    "        templong.append(round(long[i], 1))\n",
    "        i += 1\n",
    "    \n",
    "    df['latitude'] = templat\n",
    "    df['longitude'] = templong\n",
    "    \n",
    "    \n",
    "    \n",
    "truncatingcoor()"
   ]
  },
  {
   "cell_type": "code",
   "execution_count": 13,
   "id": "e7b41903",
   "metadata": {},
   "outputs": [
    {
     "name": "stdout",
     "output_type": "stream",
     "text": [
      "0       41.8\n",
      "1       41.9\n",
      "2       41.9\n",
      "3       41.9\n",
      "4       41.8\n",
      "        ... \n",
      "6392    41.9\n",
      "6393    41.9\n",
      "6394    41.9\n",
      "6395    41.9\n",
      "6396    41.8\n",
      "Name: latitude, Length: 6397, dtype: float64\n",
      "0      -87.6\n",
      "1      -87.7\n",
      "2      -87.7\n",
      "3      -87.6\n",
      "4      -87.6\n",
      "        ... \n",
      "6392   -87.6\n",
      "6393   -87.6\n",
      "6394   -87.6\n",
      "6395   -87.7\n",
      "6396   -87.6\n",
      "Name: longitude, Length: 6397, dtype: float64\n"
     ]
    }
   ],
   "source": [
    "print(df['latitude'])\n",
    "print(df['longitude'])"
   ]
  },
  {
   "cell_type": "code",
   "execution_count": 14,
   "id": "5d239984",
   "metadata": {},
   "outputs": [],
   "source": [
    "#i noticed when running the code two boxes down in count values that there were over 1000 entries where\n",
    "#the availability was 0 which means that the air bnbs were not available at all to rent any days of the year\n",
    "#so i chose to remove them from the data frame\n",
    "df.drop(df.index[df['availability_365'] == 0], inplace=True)"
   ]
  },
  {
   "cell_type": "code",
   "execution_count": 15,
   "id": "4f9c6078",
   "metadata": {},
   "outputs": [
    {
     "data": {
      "text/plain": [
       "Index(['id', 'name', 'host_id', 'host_name', 'neighbourhood', 'latitude',\n",
       "       'longitude', 'room_type', 'price', 'minimum_nights',\n",
       "       'number_of_reviews', 'last_review', 'reviews_per_month',\n",
       "       'calculated_host_listings_count', 'availability_365'],\n",
       "      dtype='object')"
      ]
     },
     "execution_count": 15,
     "metadata": {},
     "output_type": "execute_result"
    }
   ],
   "source": [
    "df.columns"
   ]
  },
  {
   "cell_type": "code",
   "execution_count": 16,
   "id": "15339e7d",
   "metadata": {},
   "outputs": [
    {
     "name": "stdout",
     "output_type": "stream",
     "text": [
      "neighborhood types: \n",
      "Near North Side    571\n",
      "West Town          547\n",
      "Lake View          423\n",
      "Loop               317\n",
      "Logan Square       306\n",
      "                  ... \n",
      "Edison Park          2\n",
      "Mount Greenwood      2\n",
      "Riverdale            2\n",
      "Clearing             1\n",
      "East Side            1\n",
      "Name: neighbourhood, Length: 77, dtype: int64\n",
      "\n",
      "latitude types:\n",
      "41.9    3407\n",
      "42.0     912\n",
      "41.8     773\n",
      "41.7     100\n",
      "41.6       1\n",
      "Name: latitude, dtype: int64\n",
      "\n",
      "longitutde types:\n",
      "-87.7    2921\n",
      "-87.6    2013\n",
      "-87.8     243\n",
      "-87.5      16\n",
      "Name: longitude, dtype: int64\n",
      "\n",
      "room types:\n",
      "Entire home/apt    3619\n",
      "Private room       1443\n",
      "Hotel room           70\n",
      "Shared room          61\n",
      "Name: room_type, dtype: int64\n",
      "\n",
      "price types:\n",
      "75      103\n",
      "50      102\n",
      "150      99\n",
      "80       95\n",
      "65       85\n",
      "       ... \n",
      "13        1\n",
      "433       1\n",
      "3000      1\n",
      "498       1\n",
      "493       1\n",
      "Name: price, Length: 487, dtype: int64\n",
      "\n",
      "minimum night types:\n",
      "2      1628\n",
      "1      1486\n",
      "3       729\n",
      "30      336\n",
      "31      144\n",
      "4       137\n",
      "32      109\n",
      "7       101\n",
      "5        95\n",
      "14       68\n",
      "28       52\n",
      "33       50\n",
      "60       39\n",
      "10       35\n",
      "41       26\n",
      "6        22\n",
      "20       18\n",
      "90       17\n",
      "21       12\n",
      "15       10\n",
      "365       9\n",
      "180       6\n",
      "29        6\n",
      "12        5\n",
      "25        5\n",
      "120       5\n",
      "35        4\n",
      "80        2\n",
      "45        2\n",
      "150       2\n",
      "24        2\n",
      "40        2\n",
      "9         2\n",
      "13        2\n",
      "91        2\n",
      "8         2\n",
      "11        1\n",
      "500       1\n",
      "70        1\n",
      "75        1\n",
      "22        1\n",
      "19        1\n",
      "38        1\n",
      "17        1\n",
      "240       1\n",
      "140       1\n",
      "100       1\n",
      "16        1\n",
      "182       1\n",
      "185       1\n",
      "179       1\n",
      "50        1\n",
      "88        1\n",
      "44        1\n",
      "26        1\n",
      "360       1\n",
      "81        1\n",
      "Name: minimum_nights, dtype: int64\n",
      "\n",
      "host listings counts types:\n",
      "1      1949\n",
      "2       715\n",
      "3       385\n",
      "4       336\n",
      "205     197\n",
      "5       160\n",
      "9       115\n",
      "6       113\n",
      "7        95\n",
      "11       86\n",
      "47       86\n",
      "8        80\n",
      "73       73\n",
      "12       71\n",
      "10       67\n",
      "31       62\n",
      "15       62\n",
      "62       58\n",
      "27       53\n",
      "17       48\n",
      "45       44\n",
      "44       44\n",
      "14       44\n",
      "20       39\n",
      "37       30\n",
      "30       30\n",
      "28       28\n",
      "26       25\n",
      "24       24\n",
      "21       21\n",
      "18       19\n",
      "19       18\n",
      "16       16\n",
      "Name: calculated_host_listings_count, dtype: int64\n",
      "\n",
      "availability types:\n",
      "365    381\n",
      "364    160\n",
      "90     108\n",
      "89      96\n",
      "263     88\n",
      "      ... \n",
      "219      1\n",
      "287      1\n",
      "250      1\n",
      "201      1\n",
      "104      1\n",
      "Name: availability_365, Length: 364, dtype: int64\n"
     ]
    }
   ],
   "source": [
    "print(\"neighborhood types: \")\n",
    "print(df.neighbourhood.value_counts())\n",
    "\n",
    "print()\n",
    "\n",
    "print(\"latitude types:\")\n",
    "print(df.latitude.value_counts())\n",
    "\n",
    "print()\n",
    "\n",
    "print(\"longitutde types:\")\n",
    "print(df.longitude.value_counts())\n",
    "\n",
    "print()\n",
    "\n",
    "print(\"room types:\")\n",
    "print(df.room_type.value_counts())\n",
    "\n",
    "print()\n",
    "\n",
    "print(\"price types:\")\n",
    "print(df.price.value_counts())\n",
    "\n",
    "print()\n",
    "\n",
    "print(\"minimum night types:\")\n",
    "print(df.minimum_nights.value_counts())\n",
    "\n",
    "print()\n",
    "\n",
    "print(\"host listings counts types:\")\n",
    "print(df.calculated_host_listings_count.value_counts())\n",
    "\n",
    "print()\n",
    "\n",
    "print(\"availability types:\")\n",
    "print(df.availability_365.value_counts())"
   ]
  },
  {
   "cell_type": "code",
   "execution_count": 17,
   "id": "0fab916a",
   "metadata": {},
   "outputs": [],
   "source": [
    "#pick 3 categorical variables\n",
    "#1. coordinates\n",
    "#2. neighborhood\n",
    "#3. room types"
   ]
  },
  {
   "cell_type": "code",
   "execution_count": 18,
   "id": "cea4f955",
   "metadata": {},
   "outputs": [
    {
     "name": "stdout",
     "output_type": "stream",
     "text": [
      "41.9    3407\n",
      "42.0     912\n",
      "41.8     773\n",
      "41.7     100\n",
      "41.6       1\n",
      "Name: latitude, dtype: int64\n"
     ]
    }
   ],
   "source": [
    "#handling sparcity in latitude\n",
    "lats = df.latitude.value_counts()\n",
    "print(lats)"
   ]
  },
  {
   "cell_type": "code",
   "execution_count": 19,
   "id": "58b5f917",
   "metadata": {},
   "outputs": [
    {
     "name": "stdout",
     "output_type": "stream",
     "text": [
      "41.9    3407\n",
      "42.0     912\n",
      "41.8     773\n",
      "41.7     100\n",
      "Name: latitude, dtype: int64\n"
     ]
    }
   ],
   "source": [
    "#dropping the outlier\n",
    "df.drop(df.index[df['latitude'] == lats.index[len(lats) - 1]], inplace=True)\n",
    "print(df.latitude.value_counts())"
   ]
  },
  {
   "cell_type": "code",
   "execution_count": 20,
   "id": "dc9faa11",
   "metadata": {
    "scrolled": true
   },
   "outputs": [
    {
     "name": "stdout",
     "output_type": "stream",
     "text": [
      "-87.7    2921\n",
      "-87.6    2012\n",
      "-87.8     243\n",
      "-87.5      16\n",
      "Name: longitude, dtype: int64\n"
     ]
    }
   ],
   "source": [
    "longs = df.longitude.value_counts()\n",
    "print(longs)"
   ]
  },
  {
   "cell_type": "code",
   "execution_count": 21,
   "id": "d1d2fa48",
   "metadata": {},
   "outputs": [],
   "source": [
    "#df.drop(df.index[df['longitude'] == longs.index[len(longs) - 1]], inplace=True)\n",
    "#print(df.longitude.value_counts())"
   ]
  },
  {
   "cell_type": "code",
   "execution_count": 22,
   "id": "7f63c37c",
   "metadata": {},
   "outputs": [
    {
     "name": "stdout",
     "output_type": "stream",
     "text": [
      "0       South Side\n",
      "1        West Side\n",
      "2        West Side\n",
      "3       North Side\n",
      "4       South Side\n",
      "           ...    \n",
      "6392       Central\n",
      "6393       Central\n",
      "6394       Central\n",
      "6395     West Side\n",
      "6396    South Side\n",
      "Name: community, Length: 5192, dtype: object\n"
     ]
    }
   ],
   "source": [
    "#handling sparcity with neighborhood\n",
    "#doing regions instead of neighborhoods... adding a column for that in the dataframe\n",
    "\n",
    "ns = df['neighbourhood']\n",
    "\n",
    "central = ['Near North Side', 'Loop', 'Near South Side']\n",
    "farnorthside = ['Ohare', 'Edison Park', 'Norwood Park', 'Jefferson Park',\n",
    "               'Forest Glen', 'North Park', 'Albany Park','West Ridge', \n",
    "               'Lincoln Square', 'Rogers Park', 'Edgewater', 'Uptown']\n",
    "farsoutheastside = ['Chatham', 'Avalon Park', 'South Chicago',\n",
    "                   'Calumet Heights', 'Pullman', 'Roseland','South Deering', \n",
    "                   'West Pullman', 'Riverdale', 'East Side', 'Burnside', 'Hegewisch']\n",
    "farsouthwestside = ['Ashburn', 'Auburn Gresham', 'Beverly', 'Washington Heights',\n",
    "                   'Morgan Park', 'Mount Greenwood']\n",
    "northside = ['North Center', 'Lincoln Park', 'Lake View', 'Avondale', 'Logan Square']\n",
    "northwestside = ['Dunning', 'Portage Park', 'Irving Park', 'Belmont Cragin',\n",
    "                'Hermosa', 'Montclare']\n",
    "southside = ['Armour Square', 'Bridgeport', 'Douglas', 'Kenwood', 'Oakland',\n",
    "            'Grand Boulevard', 'Hyde Park', 'Washington Park', 'Woodlawn',\n",
    "            'Greater Grand Crossing', 'South Shore', 'Fuller Park', ]\n",
    "southwestside = ['Mckinley Park', 'New City', 'Englewood', 'West Englewood',\n",
    "                'Brighton Park', 'Gage Park', 'Chicago Lawn', 'Archer Heights', \n",
    "                'West Elsdon', 'West Lawn', 'Garfield Ridge', 'Clearing']\n",
    "westside = ['Austin', 'Humboldt Park', 'East Garfield Park', 'West Garfield Park', \n",
    "           'North Lawndale', 'South Lawndale', 'West Town', 'Near West Side',  \n",
    "            'Lower West Side'] \n",
    "\n",
    "def toregs():\n",
    "    comms = []\n",
    "    for n in ns:\n",
    "        if (n in central):\n",
    "            comms.append('Central')\n",
    "        elif (n in farnorthside):\n",
    "            comms.append('Far North Side')\n",
    "        elif(n in farsoutheastside):\n",
    "            comms.append('Far Southeast Side')\n",
    "        elif (n in farsouthwestside):\n",
    "            comms.append(\"Far Southwest Side\")\n",
    "        elif (n in northside):\n",
    "            comms.append(\"North Side\")\n",
    "        elif (n in northwestside):\n",
    "            comms.append(\"Northwest Side\")\n",
    "        elif (n in southside):\n",
    "            comms.append(\"South Side\")\n",
    "        elif (n in southwestside):\n",
    "            comms.append(\"Southwest Side\")\n",
    "        elif (n in westside):\n",
    "            comms.append(\"West Side\")\n",
    "        else:\n",
    "            print(n)\n",
    "    df['community'] = comms\n",
    "\n",
    "toregs()\n",
    "print(df['community'])"
   ]
  },
  {
   "cell_type": "code",
   "execution_count": 23,
   "id": "5be3fa23",
   "metadata": {},
   "outputs": [
    {
     "name": "stdout",
     "output_type": "stream",
     "text": [
      "North Side            1207\n",
      "West Side             1192\n",
      "Central               1012\n",
      "Far North Side         658\n",
      "South Side             640\n",
      "Northwest Side         261\n",
      "Southwest Side         115\n",
      "Far Southeast Side      76\n",
      "Far Southwest Side      31\n",
      "Name: community, dtype: int64\n"
     ]
    }
   ],
   "source": [
    "community = df.community.value_counts()\n",
    "print(community)"
   ]
  },
  {
   "cell_type": "code",
   "execution_count": 24,
   "id": "a967f45c",
   "metadata": {},
   "outputs": [
    {
     "name": "stdout",
     "output_type": "stream",
     "text": [
      "Entire home/apt    3619\n",
      "Private room       1442\n",
      "Hotel room           70\n",
      "Shared room          61\n",
      "Name: room_type, dtype: int64\n"
     ]
    }
   ],
   "source": [
    "#handling scarcity with room types\n",
    "rooms = df.room_type.value_counts()\n",
    "print(rooms)\n",
    "#dont need to clean up"
   ]
  },
  {
   "cell_type": "code",
   "execution_count": 25,
   "id": "9e51c4bb",
   "metadata": {},
   "outputs": [
    {
     "data": {
      "text/plain": [
       "<AxesSubplot:xlabel='count', ylabel='latitude'>"
      ]
     },
     "execution_count": 25,
     "metadata": {},
     "output_type": "execute_result"
    },
    {
     "data": {
      "image/png": "[encoded data removed]",
      "text/plain": [
       "<Figure size 432x288 with 1 Axes>"
      ]
     },
     "metadata": {
      "needs_background": "light"
     },
     "output_type": "display_data"
    }
   ],
   "source": [
    "#plotting latitude\n",
    "sns.countplot(y = 'latitude', data = df)"
   ]
  },
  {
   "cell_type": "code",
   "execution_count": 26,
   "id": "01c89462",
   "metadata": {},
   "outputs": [
    {
     "data": {
      "text/plain": [
       "<AxesSubplot:xlabel='count', ylabel='longitude'>"
      ]
     },
     "execution_count": 26,
     "metadata": {},
     "output_type": "execute_result"
    },
    {
     "data": {
      "image/png": "[encoded data removed]",
      "text/plain": [
       "<Figure size 432x288 with 1 Axes>"
      ]
     },
     "metadata": {
      "needs_background": "light"
     },
     "output_type": "display_data"
    }
   ],
   "source": [
    "#plotting longitude\n",
    "sns.countplot(y = 'longitude', data = df)"
   ]
  },
  {
   "cell_type": "code",
   "execution_count": 27,
   "id": "9e847831",
   "metadata": {},
   "outputs": [
    {
     "data": {
      "text/plain": [
       "<AxesSubplot:xlabel='count', ylabel='community'>"
      ]
     },
     "execution_count": 27,
     "metadata": {},
     "output_type": "execute_result"
    },
    {
     "data": {
      "image/png": "[encoded data removed]",
      "text/plain": [
       "<Figure size 432x288 with 1 Axes>"
      ]
     },
     "metadata": {
      "needs_background": "light"
     },
     "output_type": "display_data"
    }
   ],
   "source": [
    "#plotting neighbourhood\n",
    "sns.countplot(y = 'community', data = df)"
   ]
  },
  {
   "cell_type": "code",
   "execution_count": 28,
   "id": "c7e2eee2",
   "metadata": {},
   "outputs": [
    {
     "data": {
      "text/plain": [
       "<AxesSubplot:xlabel='count', ylabel='room_type'>"
      ]
     },
     "execution_count": 28,
     "metadata": {},
     "output_type": "execute_result"
    },
    {
     "data": {
      "image/png": "[encoded data removed]",
      "text/plain": [
       "<Figure size 432x288 with 1 Axes>"
      ]
     },
     "metadata": {
      "needs_background": "light"
     },
     "output_type": "display_data"
    }
   ],
   "source": [
    "sns.countplot(y = 'room_type', data = df)"
   ]
  },
  {
   "cell_type": "code",
   "execution_count": 29,
   "id": "070d98de",
   "metadata": {},
   "outputs": [
    {
     "name": "stdout",
     "output_type": "stream",
     "text": [
      "            id                                               name    host_id  \\\n",
      "0         2384  Hyde Park - Walk to UChicago, 10 min to McCormick       2613   \n",
      "1         4505  394 Great Reviews. 127 y/o House. 40 yds to tr...       5775   \n",
      "2         7126                Tiny Studio Apartment 94 Walk Score      17928   \n",
      "3         9811                      Barbara's Hideaway - Old Town      33004   \n",
      "4        10610                   3 Comforts of Cooperative Living       2140   \n",
      "...        ...                                                ...        ...   \n",
      "6318  45351578    Spacious Modern Vibe Avondale/Logan -Entire Apt   77382816   \n",
      "6325  45368527  Private Bedroom in Chicago Near Lincoln Square...  128265803   \n",
      "6329  45386114   BEST PRICE for a studio in Wrigleyville-Boystown  324740940   \n",
      "6349  45433310  Luxury King size (78*82) bedroom with free par...  111872967   \n",
      "6366  45465696        Cozy Garden Room in the middle of Boystown!    8803468   \n",
      "\n",
      "             host_name   neighbourhood  latitude  longitude        room_type  \\\n",
      "0              Rebecca       Hyde Park      41.8      -87.6     Private room   \n",
      "1     Craig & Kathleen  South Lawndale      41.9      -87.7  Entire home/apt   \n",
      "2                Sarah       West Town      41.9      -87.7  Entire home/apt   \n",
      "3          At Home Inn    Lincoln Park      41.9      -87.6  Entire home/apt   \n",
      "4                 Lois       Hyde Park      41.8      -87.6     Private room   \n",
      "...                ...             ...       ...        ...              ...   \n",
      "6318            Edmund        Avondale      41.9      -87.7  Entire home/apt   \n",
      "6325            Victor      North Park      42.0      -87.7     Private room   \n",
      "6329            Andrea          Uptown      42.0      -87.7  Entire home/apt   \n",
      "6349             Julie  Near West Side      41.9      -87.7     Private room   \n",
      "6366            Ashley       Lake View      41.9      -87.6     Private room   \n",
      "\n",
      "      price  minimum_nights  number_of_reviews last_review  reviews_per_month  \\\n",
      "0        60               2                178  2019-12-15               2.56   \n",
      "1       105               2                395  2020-07-14               2.81   \n",
      "2        60               2                384  2020-03-08               2.81   \n",
      "3        65               4                 49  2019-10-23               0.63   \n",
      "4        21               1                 44  2020-02-14               0.61   \n",
      "...     ...             ...                ...         ...                ...   \n",
      "6318     67               1                  2  2020-09-20               2.00   \n",
      "6325     24               1                  2  2020-09-20               2.00   \n",
      "6329     97               1                  2  2020-09-19               2.00   \n",
      "6349     54               1                  1  2020-09-18               1.00   \n",
      "6366     92               1                  1  2020-09-19               1.00   \n",
      "\n",
      "      calculated_host_listings_count  availability_365       community  \n",
      "0                                  1               353      South Side  \n",
      "1                                  1               155       West Side  \n",
      "2                                  1               321       West Side  \n",
      "3                                  9               300      North Side  \n",
      "4                                  5               168      South Side  \n",
      "...                              ...               ...             ...  \n",
      "6318                               1               307      North Side  \n",
      "6325                               4                14  Far North Side  \n",
      "6329                               4                81  Far North Side  \n",
      "6349                               4               359       West Side  \n",
      "6366                               4               330      North Side  \n",
      "\n",
      "[4248 rows x 16 columns]\n"
     ]
    }
   ],
   "source": [
    "df = df.dropna()\n",
    "print(df)"
   ]
  },
  {
   "cell_type": "code",
   "execution_count": 30,
   "id": "2755052a",
   "metadata": {},
   "outputs": [
    {
     "name": "stdout",
     "output_type": "stream",
     "text": [
      "0        60\n",
      "1       105\n",
      "2        60\n",
      "3        65\n",
      "4        21\n",
      "       ... \n",
      "6318     67\n",
      "6325     24\n",
      "6329     97\n",
      "6349     54\n",
      "6366     92\n",
      "Name: price, Length: 4248, dtype: int64\n"
     ]
    }
   ],
   "source": [
    "print(df['price'])"
   ]
  },
  {
   "cell_type": "code",
   "execution_count": 31,
   "id": "c3167f8a",
   "metadata": {},
   "outputs": [
    {
     "name": "stdout",
     "output_type": "stream",
     "text": [
      "10000\n",
      "10\n",
      "98.0\n"
     ]
    }
   ],
   "source": [
    "max_value = df['price'].max()\n",
    "min_value = df['price'].min()\n",
    "median = df['price'].median()\n",
    "\n",
    "print(max_value)\n",
    "print(min_value)\n",
    "print(median)"
   ]
  },
  {
   "cell_type": "code",
   "execution_count": 32,
   "id": "c8ac532a",
   "metadata": {},
   "outputs": [
    {
     "name": "stdout",
     "output_type": "stream",
     "text": [
      "0         50 - 99\n",
      "1       100 - 149\n",
      "2         50 - 99\n",
      "3         50 - 99\n",
      "4            < 50\n",
      "          ...    \n",
      "6318      50 - 99\n",
      "6325         < 50\n",
      "6329      50 - 99\n",
      "6349      50 - 99\n",
      "6366      50 - 99\n",
      "Name: price_range, Length: 4248, dtype: object\n"
     ]
    }
   ],
   "source": [
    "import pandas as pd\n",
    "pd.options.mode.chained_assignment = None  # default='warn'\n",
    "prices = df['price']\n",
    "def pricebin():\n",
    "    temp = []\n",
    "    for p in prices:\n",
    "        if p < 50:\n",
    "            temp.append(\"< 50\")\n",
    "        elif p < 100:\n",
    "            temp.append(\"50 - 99\")\n",
    "        elif p < 150:\n",
    "            temp.append('100 - 149')\n",
    "        elif p < 200:\n",
    "            temp.append('150 - 199')\n",
    "        elif p < 250:\n",
    "            temp.append('200 - 249')\n",
    "        else:\n",
    "            temp.append('250 +')\n",
    "    return temp\n",
    "\n",
    "df['price_range'] = pricebin()\n",
    "print(df['price_range'])"
   ]
  },
  {
   "cell_type": "code",
   "execution_count": 33,
   "id": "107e6e9b",
   "metadata": {
    "scrolled": true
   },
   "outputs": [],
   "source": [
    "df = pd.get_dummies(df, columns = ['latitude', 'longitude', 'room_type', 'community', 'price_range'])"
   ]
  },
  {
   "cell_type": "code",
   "execution_count": 34,
   "id": "2ea10410",
   "metadata": {},
   "outputs": [
    {
     "name": "stdout",
     "output_type": "stream",
     "text": [
      "            id                                               name    host_id  \\\n",
      "0         2384  Hyde Park - Walk to UChicago, 10 min to McCormick       2613   \n",
      "1         4505  394 Great Reviews. 127 y/o House. 40 yds to tr...       5775   \n",
      "2         7126                Tiny Studio Apartment 94 Walk Score      17928   \n",
      "3         9811                      Barbara's Hideaway - Old Town      33004   \n",
      "4        10610                   3 Comforts of Cooperative Living       2140   \n",
      "...        ...                                                ...        ...   \n",
      "6318  45351578    Spacious Modern Vibe Avondale/Logan -Entire Apt   77382816   \n",
      "6325  45368527  Private Bedroom in Chicago Near Lincoln Square...  128265803   \n",
      "6329  45386114   BEST PRICE for a studio in Wrigleyville-Boystown  324740940   \n",
      "6349  45433310  Luxury King size (78*82) bedroom with free par...  111872967   \n",
      "6366  45465696        Cozy Garden Room in the middle of Boystown!    8803468   \n",
      "\n",
      "             host_name   neighbourhood  price  minimum_nights  \\\n",
      "0              Rebecca       Hyde Park     60               2   \n",
      "1     Craig & Kathleen  South Lawndale    105               2   \n",
      "2                Sarah       West Town     60               2   \n",
      "3          At Home Inn    Lincoln Park     65               4   \n",
      "4                 Lois       Hyde Park     21               1   \n",
      "...                ...             ...    ...             ...   \n",
      "6318            Edmund        Avondale     67               1   \n",
      "6325            Victor      North Park     24               1   \n",
      "6329            Andrea          Uptown     97               1   \n",
      "6349             Julie  Near West Side     54               1   \n",
      "6366            Ashley       Lake View     92               1   \n",
      "\n",
      "      number_of_reviews last_review  reviews_per_month  ...  \\\n",
      "0                   178  2019-12-15               2.56  ...   \n",
      "1                   395  2020-07-14               2.81  ...   \n",
      "2                   384  2020-03-08               2.81  ...   \n",
      "3                    49  2019-10-23               0.63  ...   \n",
      "4                    44  2020-02-14               0.61  ...   \n",
      "...                 ...         ...                ...  ...   \n",
      "6318                  2  2020-09-20               2.00  ...   \n",
      "6325                  2  2020-09-20               2.00  ...   \n",
      "6329                  2  2020-09-19               2.00  ...   \n",
      "6349                  1  2020-09-18               1.00  ...   \n",
      "6366                  1  2020-09-19               1.00  ...   \n",
      "\n",
      "      community_Northwest Side  community_South Side  \\\n",
      "0                            0                     1   \n",
      "1                            0                     0   \n",
      "2                            0                     0   \n",
      "3                            0                     0   \n",
      "4                            0                     1   \n",
      "...                        ...                   ...   \n",
      "6318                         0                     0   \n",
      "6325                         0                     0   \n",
      "6329                         0                     0   \n",
      "6349                         0                     0   \n",
      "6366                         0                     0   \n",
      "\n",
      "      community_Southwest Side  community_West Side  price_range_100 - 149  \\\n",
      "0                            0                    0                      0   \n",
      "1                            0                    1                      1   \n",
      "2                            0                    1                      0   \n",
      "3                            0                    0                      0   \n",
      "4                            0                    0                      0   \n",
      "...                        ...                  ...                    ...   \n",
      "6318                         0                    0                      0   \n",
      "6325                         0                    0                      0   \n",
      "6329                         0                    0                      0   \n",
      "6349                         0                    1                      0   \n",
      "6366                         0                    0                      0   \n",
      "\n",
      "      price_range_150 - 199  price_range_200 - 249  price_range_250 +  \\\n",
      "0                         0                      0                  0   \n",
      "1                         0                      0                  0   \n",
      "2                         0                      0                  0   \n",
      "3                         0                      0                  0   \n",
      "4                         0                      0                  0   \n",
      "...                     ...                    ...                ...   \n",
      "6318                      0                      0                  0   \n",
      "6325                      0                      0                  0   \n",
      "6329                      0                      0                  0   \n",
      "6349                      0                      0                  0   \n",
      "6366                      0                      0                  0   \n",
      "\n",
      "      price_range_50 - 99  price_range_< 50  \n",
      "0                       1                 0  \n",
      "1                       0                 0  \n",
      "2                       1                 0  \n",
      "3                       1                 0  \n",
      "4                       0                 1  \n",
      "...                   ...               ...  \n",
      "6318                    1                 0  \n",
      "6325                    0                 1  \n",
      "6329                    1                 0  \n",
      "6349                    1                 0  \n",
      "6366                    1                 0  \n",
      "\n",
      "[4248 rows x 39 columns]\n"
     ]
    }
   ],
   "source": [
    "print(df)"
   ]
  },
  {
   "cell_type": "code",
   "execution_count": 35,
   "id": "0f074772",
   "metadata": {},
   "outputs": [],
   "source": [
    "df.to_csv('/Users/christopherbarnes/cmsc25910/Assignment6/cleandata.csv')"
   ]
  },
  {
   "cell_type": "code",
   "execution_count": 36,
   "id": "4c08c34f",
   "metadata": {},
   "outputs": [
    {
     "name": "stdout",
     "output_type": "stream",
     "text": [
      "Index(['id', 'name', 'host_id', 'host_name', 'neighbourhood', 'price',\n",
      "       'minimum_nights', 'number_of_reviews', 'last_review',\n",
      "       'reviews_per_month', 'calculated_host_listings_count',\n",
      "       'availability_365', 'latitude_41.7', 'latitude_41.8', 'latitude_41.9',\n",
      "       'latitude_42.0', 'longitude_-87.8', 'longitude_-87.7',\n",
      "       'longitude_-87.6', 'longitude_-87.5', 'room_type_Entire home/apt',\n",
      "       'room_type_Hotel room', 'room_type_Private room',\n",
      "       'room_type_Shared room', 'community_Central',\n",
      "       'community_Far North Side', 'community_Far Southeast Side',\n",
      "       'community_Far Southwest Side', 'community_North Side',\n",
      "       'community_Northwest Side', 'community_South Side',\n",
      "       'community_Southwest Side', 'community_West Side',\n",
      "       'price_range_100 - 149', 'price_range_150 - 199',\n",
      "       'price_range_200 - 249', 'price_range_250 +', 'price_range_50 - 99',\n",
      "       'price_range_< 50'],\n",
      "      dtype='object')\n"
     ]
    }
   ],
   "source": [
    "print(df.columns)"
   ]
  },
  {
   "cell_type": "code",
   "execution_count": 37,
   "id": "0b0e5182",
   "metadata": {},
   "outputs": [],
   "source": [
    "import numpy as np\n",
    "import pandas as pd\n",
    "\n",
    "# define the data/predictors as the pre-set feature names  \n",
    "df1 = pd.DataFrame(df, columns=['latitude_41.7', 'latitude_41.8', 'latitude_41.9',\n",
    "       'latitude_42.0', 'longitude_-87.8', 'longitude_-87.7',\n",
    "       'longitude_-87.6', 'longitude_-87.5', 'room_type_Entire home/apt',\n",
    "       'room_type_Hotel room', 'room_type_Private room',\n",
    "       'room_type_Shared room', 'community_Central',\n",
    "       'community_Far North Side', 'community_Far Southeast Side',\n",
    "       'community_Far Southwest Side', 'community_North Side',\n",
    "       'community_Northwest Side', 'community_South Side',\n",
    "       'community_Southwest Side', 'community_West Side'])\n",
    "\n",
    "target = pd.DataFrame(df, columns=[\"price\"])"
   ]
  },
  {
   "cell_type": "code",
   "execution_count": 38,
   "id": "730a2630",
   "metadata": {},
   "outputs": [
    {
     "data": {
      "text/html": [
       "<table class=\"simpletable\">\n",
       "<caption>OLS Regression Results</caption>\n",
       "<tr>\n",
       "  <th>Dep. Variable:</th>          <td>price</td>      <th>  R-squared:         </th> <td>   0.034</td> \n",
       "</tr>\n",
       "<tr>\n",
       "  <th>Model:</th>                   <td>OLS</td>       <th>  Adj. R-squared:    </th> <td>   0.030</td> \n",
       "</tr>\n",
       "<tr>\n",
       "  <th>Method:</th>             <td>Least Squares</td>  <th>  F-statistic:       </th> <td>   8.812</td> \n",
       "</tr>\n",
       "<tr>\n",
       "  <th>Date:</th>             <td>Sun, 22 May 2022</td> <th>  Prob (F-statistic):</th> <td>7.62e-23</td> \n",
       "</tr>\n",
       "<tr>\n",
       "  <th>Time:</th>                 <td>09:25:31</td>     <th>  Log-Likelihood:    </th> <td> -31459.</td> \n",
       "</tr>\n",
       "<tr>\n",
       "  <th>No. Observations:</th>      <td>  4248</td>      <th>  AIC:               </th> <td>6.295e+04</td>\n",
       "</tr>\n",
       "<tr>\n",
       "  <th>Df Residuals:</th>          <td>  4230</td>      <th>  BIC:               </th> <td>6.307e+04</td>\n",
       "</tr>\n",
       "<tr>\n",
       "  <th>Df Model:</th>              <td>    17</td>      <th>                     </th>     <td> </td>    \n",
       "</tr>\n",
       "<tr>\n",
       "  <th>Covariance Type:</th>      <td>nonrobust</td>    <th>                     </th>     <td> </td>    \n",
       "</tr>\n",
       "</table>\n",
       "<table class=\"simpletable\">\n",
       "<tr>\n",
       "                <td></td>                  <th>coef</th>     <th>std err</th>      <th>t</th>      <th>P>|t|</th>  <th>[0.025</th>    <th>0.975]</th>  \n",
       "</tr>\n",
       "<tr>\n",
       "  <th>latitude_41.7</th>                <td>   -6.9716</td> <td>  132.274</td> <td>   -0.053</td> <td> 0.958</td> <td> -266.297</td> <td>  252.354</td>\n",
       "</tr>\n",
       "<tr>\n",
       "  <th>latitude_41.8</th>                <td>   21.9867</td> <td>   49.099</td> <td>    0.448</td> <td> 0.654</td> <td>  -74.272</td> <td>  118.246</td>\n",
       "</tr>\n",
       "<tr>\n",
       "  <th>latitude_41.9</th>                <td>   79.8746</td> <td>   48.457</td> <td>    1.648</td> <td> 0.099</td> <td>  -15.127</td> <td>  174.876</td>\n",
       "</tr>\n",
       "<tr>\n",
       "  <th>latitude_42.0</th>                <td>  155.5766</td> <td>   53.929</td> <td>    2.885</td> <td> 0.004</td> <td>   49.848</td> <td>  261.306</td>\n",
       "</tr>\n",
       "<tr>\n",
       "  <th>longitude_-87.8</th>              <td>   23.5337</td> <td>   35.760</td> <td>    0.658</td> <td> 0.511</td> <td>  -46.574</td> <td>   93.641</td>\n",
       "</tr>\n",
       "<tr>\n",
       "  <th>longitude_-87.7</th>              <td>   46.4271</td> <td>   26.274</td> <td>    1.767</td> <td> 0.077</td> <td>   -5.084</td> <td>   97.938</td>\n",
       "</tr>\n",
       "<tr>\n",
       "  <th>longitude_-87.6</th>              <td>   80.6074</td> <td>   27.199</td> <td>    2.964</td> <td> 0.003</td> <td>   27.283</td> <td>  133.931</td>\n",
       "</tr>\n",
       "<tr>\n",
       "  <th>longitude_-87.5</th>              <td>   99.8982</td> <td>   99.110</td> <td>    1.008</td> <td> 0.314</td> <td>  -94.410</td> <td>  294.207</td>\n",
       "</tr>\n",
       "<tr>\n",
       "  <th>room_type_Entire home/apt</th>    <td>   -0.5517</td> <td>   17.218</td> <td>   -0.032</td> <td> 0.974</td> <td>  -34.308</td> <td>   33.205</td>\n",
       "</tr>\n",
       "<tr>\n",
       "  <th>room_type_Hotel room</th>         <td>  415.4089</td> <td>   45.490</td> <td>    9.132</td> <td> 0.000</td> <td>  326.225</td> <td>  504.593</td>\n",
       "</tr>\n",
       "<tr>\n",
       "  <th>room_type_Private room</th>       <td>  -66.7650</td> <td>   18.586</td> <td>   -3.592</td> <td> 0.000</td> <td> -103.202</td> <td>  -30.328</td>\n",
       "</tr>\n",
       "<tr>\n",
       "  <th>room_type_Shared room</th>        <td>  -97.6259</td> <td>   48.049</td> <td>   -2.032</td> <td> 0.042</td> <td> -191.827</td> <td>   -3.425</td>\n",
       "</tr>\n",
       "<tr>\n",
       "  <th>community_Central</th>            <td>   50.1178</td> <td>   47.639</td> <td>    1.052</td> <td> 0.293</td> <td>  -43.279</td> <td>  143.515</td>\n",
       "</tr>\n",
       "<tr>\n",
       "  <th>community_Far North Side</th>     <td>  -61.1839</td> <td>   52.645</td> <td>   -1.162</td> <td> 0.245</td> <td> -164.395</td> <td>   42.027</td>\n",
       "</tr>\n",
       "<tr>\n",
       "  <th>community_Far Southeast Side</th> <td>   31.8181</td> <td>  138.077</td> <td>    0.230</td> <td> 0.818</td> <td> -238.885</td> <td>  302.521</td>\n",
       "</tr>\n",
       "<tr>\n",
       "  <th>community_Far Southwest Side</th> <td>   74.7530</td> <td>  138.820</td> <td>    0.538</td> <td> 0.590</td> <td> -197.407</td> <td>  346.913</td>\n",
       "</tr>\n",
       "<tr>\n",
       "  <th>community_North Side</th>         <td>   50.7687</td> <td>   44.742</td> <td>    1.135</td> <td> 0.257</td> <td>  -36.949</td> <td>  138.486</td>\n",
       "</tr>\n",
       "<tr>\n",
       "  <th>community_Northwest Side</th>     <td>  -14.0799</td> <td>   51.817</td> <td>   -0.272</td> <td> 0.786</td> <td> -115.669</td> <td>   87.509</td>\n",
       "</tr>\n",
       "<tr>\n",
       "  <th>community_South Side</th>         <td>   30.4373</td> <td>   48.584</td> <td>    0.626</td> <td> 0.531</td> <td>  -64.813</td> <td>  125.688</td>\n",
       "</tr>\n",
       "<tr>\n",
       "  <th>community_Southwest Side</th>     <td>   55.1627</td> <td>   58.319</td> <td>    0.946</td> <td> 0.344</td> <td>  -59.173</td> <td>  169.498</td>\n",
       "</tr>\n",
       "<tr>\n",
       "  <th>community_West Side</th>          <td>   32.6727</td> <td>   44.805</td> <td>    0.729</td> <td> 0.466</td> <td>  -55.169</td> <td>  120.514</td>\n",
       "</tr>\n",
       "</table>\n",
       "<table class=\"simpletable\">\n",
       "<tr>\n",
       "  <th>Omnibus:</th>       <td>9396.182</td> <th>  Durbin-Watson:     </th>   <td>   1.468</td>  \n",
       "</tr>\n",
       "<tr>\n",
       "  <th>Prob(Omnibus):</th>  <td> 0.000</td>  <th>  Jarque-Bera (JB):  </th> <td>41075827.346</td>\n",
       "</tr>\n",
       "<tr>\n",
       "  <th>Skew:</th>           <td>20.336</td>  <th>  Prob(JB):          </th>   <td>    0.00</td>  \n",
       "</tr>\n",
       "<tr>\n",
       "  <th>Kurtosis:</th>       <td>483.013</td> <th>  Cond. No.          </th>   <td>4.93e+15</td>  \n",
       "</tr>\n",
       "</table><br/><br/>Notes:<br/>[1] Standard Errors assume that the covariance matrix of the errors is correctly specified.<br/>[2] The smallest eigenvalue is 3.17e-28. This might indicate that there are<br/>strong multicollinearity problems or that the design matrix is singular."
      ],
      "text/plain": [
       "<class 'statsmodels.iolib.summary.Summary'>\n",
       "\"\"\"\n",
       "                            OLS Regression Results                            \n",
       "==============================================================================\n",
       "Dep. Variable:                  price   R-squared:                       0.034\n",
       "Model:                            OLS   Adj. R-squared:                  0.030\n",
       "Method:                 Least Squares   F-statistic:                     8.812\n",
       "Date:                Sun, 22 May 2022   Prob (F-statistic):           7.62e-23\n",
       "Time:                        09:25:31   Log-Likelihood:                -31459.\n",
       "No. Observations:                4248   AIC:                         6.295e+04\n",
       "Df Residuals:                    4230   BIC:                         6.307e+04\n",
       "Df Model:                          17                                         \n",
       "Covariance Type:            nonrobust                                         \n",
       "================================================================================================\n",
       "                                   coef    std err          t      P>|t|      [0.025      0.975]\n",
       "------------------------------------------------------------------------------------------------\n",
       "latitude_41.7                   -6.9716    132.274     -0.053      0.958    -266.297     252.354\n",
       "latitude_41.8                   21.9867     49.099      0.448      0.654     -74.272     118.246\n",
       "latitude_41.9                   79.8746     48.457      1.648      0.099     -15.127     174.876\n",
       "latitude_42.0                  155.5766     53.929      2.885      0.004      49.848     261.306\n",
       "longitude_-87.8                 23.5337     35.760      0.658      0.511     -46.574      93.641\n",
       "longitude_-87.7                 46.4271     26.274      1.767      0.077      -5.084      97.938\n",
       "longitude_-87.6                 80.6074     27.199      2.964      0.003      27.283     133.931\n",
       "longitude_-87.5                 99.8982     99.110      1.008      0.314     -94.410     294.207\n",
       "room_type_Entire home/apt       -0.5517     17.218     -0.032      0.974     -34.308      33.205\n",
       "room_type_Hotel room           415.4089     45.490      9.132      0.000     326.225     504.593\n",
       "room_type_Private room         -66.7650     18.586     -3.592      0.000    -103.202     -30.328\n",
       "room_type_Shared room          -97.6259     48.049     -2.032      0.042    -191.827      -3.425\n",
       "community_Central               50.1178     47.639      1.052      0.293     -43.279     143.515\n",
       "community_Far North Side       -61.1839     52.645     -1.162      0.245    -164.395      42.027\n",
       "community_Far Southeast Side    31.8181    138.077      0.230      0.818    -238.885     302.521\n",
       "community_Far Southwest Side    74.7530    138.820      0.538      0.590    -197.407     346.913\n",
       "community_North Side            50.7687     44.742      1.135      0.257     -36.949     138.486\n",
       "community_Northwest Side       -14.0799     51.817     -0.272      0.786    -115.669      87.509\n",
       "community_South Side            30.4373     48.584      0.626      0.531     -64.813     125.688\n",
       "community_Southwest Side        55.1627     58.319      0.946      0.344     -59.173     169.498\n",
       "community_West Side             32.6727     44.805      0.729      0.466     -55.169     120.514\n",
       "==============================================================================\n",
       "Omnibus:                     9396.182   Durbin-Watson:                   1.468\n",
       "Prob(Omnibus):                  0.000   Jarque-Bera (JB):         41075827.346\n",
       "Skew:                          20.336   Prob(JB):                         0.00\n",
       "Kurtosis:                     483.013   Cond. No.                     4.93e+15\n",
       "==============================================================================\n",
       "\n",
       "Notes:\n",
       "[1] Standard Errors assume that the covariance matrix of the errors is correctly specified.\n",
       "[2] The smallest eigenvalue is 3.17e-28. This might indicate that there are\n",
       "strong multicollinearity problems or that the design matrix is singular.\n",
       "\"\"\""
      ]
     },
     "execution_count": 38,
     "metadata": {},
     "output_type": "execute_result"
    }
   ],
   "source": [
    "#did not chose this method to analyze as i believe it is too similar to an article i was\n",
    "#using to the article i was using to clean the data\n",
    "import numpy as np\n",
    "from sklearn.model_selection import train_test_split\n",
    "\n",
    "import pandas\n",
    "from sklearn import linear_model\n",
    "import statsmodels.api as sm\n",
    "\n",
    "X = df[['latitude_41.7', 'latitude_41.8', 'latitude_41.9',\n",
    "       'latitude_42.0', 'longitude_-87.8', 'longitude_-87.7',\n",
    "       'longitude_-87.6', 'longitude_-87.5', 'room_type_Entire home/apt',\n",
    "       'room_type_Hotel room', 'room_type_Private room',\n",
    "       'room_type_Shared room', 'community_Central',\n",
    "       'community_Far North Side', 'community_Far Southeast Side',\n",
    "       'community_Far Southwest Side', 'community_North Side',\n",
    "       'community_Northwest Side', 'community_South Side',\n",
    "       'community_Southwest Side', 'community_West Side']]\n",
    "y = df['price']\n",
    "\n",
    "\n",
    "# Note the difference in argument order\n",
    "model = sm.OLS(y, X).fit()\n",
    "predictions = model.predict(X) # make the predictions by the model\n",
    "\n",
    "# Print out the statistics\n",
    "model.summary()"
   ]
  },
  {
   "cell_type": "code",
   "execution_count": 53,
   "id": "512df6ff",
   "metadata": {},
   "outputs": [
    {
     "name": "stdout",
     "output_type": "stream",
     "text": [
      "[106.  64. 174. 202.  74. 264.  14. 106. 130. 142. 202. 174. 106. 208.\n",
      " 174. 142. 106.  64. 174. 106.  74. 174. 208.  74. 174.  84. 174. 142.\n",
      " 130. 174. 208. 208. 174.  84. 174. 130.  74. 182.  24.  74. 174. 156.\n",
      "  74. 208. 174.  74. 114.  24. 134. 174.  64. 174.  74. 208.  64. 130.\n",
      " 130.  68. 130. 174.  64. 186. 174. 208. 130. 174.  42.  14.  24. 208.\n",
      " 208. 208. 174. 174. 174. 114. 174. 202. 174.  96. 174.  74. 106. 174.\n",
      " 174. 174.  74. 542. 174. 174. 208.  84. 208. 106.  98. 174. 208. 542.\n",
      " -34.  64.  74. 208. 208. 106. 156.  92. 106.  64. 208. 208.  74. 142.\n",
      " 174. 174. 130. 208. 142. 174. 208. 174. 142. 114. 208. 110. 174. 174.\n",
      " 208. 208. 156. 202.  74. 174. 208. 106. 174.  74. 174. 208. 130. 130.\n",
      " 174. 174. 174. 174. 130. 114. 130. 174.  64. 130. 264. 130. 130. 174.\n",
      " 106. 208. 208. 112. 174. 208. 226. 130. 174. 174. 106. 110.  64. 174.\n",
      " 130. 106. 208. 174. 174. 174. 130. 174. 142.  64.  74. 174. 208.  64.\n",
      " 130. 174. 106. 174. 142. 208. 202. 208. 174. 208. 136. 130. 174. 174.\n",
      " 264. 202. 130. 202.  64. 174. 542. 130.  74. 174. 174.  74. 174. 174.\n",
      " 174. 106. 174. 208. 134. 130. 106.  74. 542. 174. 174. 208. 174. 106.\n",
      "  64. 174. 208. 204.  88. 208. 114. 174.  24. 106. 174. 114. 106. 208.\n",
      " 106. 264. 106. -34. 106. 174. 174. 174. 106.  64. 174. 208.  64. 202.\n",
      " 174. 174. 202. 174. 208. 130. 106. 174. 208. 142.  84.  64. 208. 208.\n",
      " 134.  64. 174.  46. 106. 142. 106.  88. 174.  74. 174.  64. 130. 106.\n",
      " 202. 178. 174. 208. 208. 112.  46. 208.  92. 142. 142. 174. 174. 174.\n",
      " 130. 174. 130. 202. 142. 208. 174. 174. 106. 174. 174. 130. 174.  74.\n",
      " 208. 174. 142. 174.  64. 174. 110.  92.  74. 130. 106. 174. 208.  88.\n",
      " 142. 174. 136. 142. 174. 174. 106. 174. 174. 174.  74. 208.  74. 134.\n",
      " 106. 136. 264. 208. 174. 106. 542. 142. 186. 174.  92. 142. 106. 174.\n",
      " 174. 130. 264. 150. 208. 208. 106. 174. 208. 142. 142. 174. 106. 106.\n",
      "  84.  74. 208. 112. 174. 542. 208. 130. 174. 106.  74. 106. 174. 174.\n",
      " 142. 130. 208. 174. 174. 174. 114. -34. 106. 182.  62. 208. 208. 202.\n",
      " 186. 130. 202. 208.  74. 174. 106. 142. 264. 208. 130.  92. 208. 208.\n",
      " 106. 174. 208. 208.  64. 208.  74. 174. 142. 208. 174. 106. 174. 542.\n",
      " 208. 208. 174. 130. 174.  24. 142.  92. 142. 208. 186.  54. 174. 202.\n",
      " 130. 208. 136. 204. 174. 142. 156. 208. 174. 106. 174. 264. 174. 208.\n",
      " 130. 130. 208.  68. 174. 142.  74.  64. 202. 264. 130. 174. 106. 130.\n",
      " 208. 174. 208. 142. 174. 174.  74.  74. 130. 150. 114. 202. 208. 130.\n",
      " 142. 508. 208. 202. 130. 174. 208. 174.  74. 136. 120.  24. 208. 174.\n",
      "   0.  64. 174. 150. 130. 174. 130. 106. 142. 208.  74. 106. 174.  74.\n",
      " 142. 106. 106. 202. 174. 208. 174. 142. 174. 174. 208.  64. 156. 142.\n",
      " 264. 142.  74. 264. 156.  62. 174. 208. 174. 142. 142. 142. 208. 174.\n",
      " 110. 208. 142. 130.  74. 174.  68. 112.  74. 264. 114.  68. 174. 208.\n",
      " 130. 174. 202. 142. 106. 130. 174. 130. 106.  74. 174. 174. 174.  74.\n",
      "  84. 174. 174. 134. 174. 174. 142. 106. 142. 208. 120. 208.  74. 106.\n",
      "  46. 202. 174.  74. 174. 130. 208. 208. 130. 130. 134. 136.  24. 174.\n",
      " 106. 208.   0. 136. 208. 174. 202. 208. 130.  24. 208.  92. 174. 106.\n",
      " 106. 142. 130. 506.  74. 110. 110. 174.  88. 174. 174. 174. 542. 208.\n",
      "  24.  68. 106. 106. 112. 174. 264. 466. 174. 182. 174.  74.  74. 174.\n",
      " 174. 174. 112. 174. 174. 202. 208.  74.  64. 106. 174. 130. 208. 174.\n",
      "  46. 174. 208. 208. 130.  24. 208. 130. 106. 208. 142. 208. 130. 106.\n",
      " 264. 174.  64.  64. 106.  74. 208.  74. 174. 264. 142. 106. 174. 106.\n",
      " 174. 150. 208. 174. 106. 142. 110.  46. 174. 202.  74.  64. 130. 174.\n",
      " 208. 174. 142. 208. 142.  64. 142. 174.  92. 174. 208. 142.  92.  64.\n",
      " 160. 174. 106. 130. 174. 130. 174.  84. 174. 208. 198.  64. 174.  88.\n",
      " 142. 130. 174. 208. 208. 174.  74. 106.  84. 106. 174. 112. 134. 174.\n",
      " 174. 202. 130. 174. 174. 208.  84. 142.  64. 208. 174. 130. 208. 208.\n",
      "  24.  92. 156. 142. 174. 142.  74.  68. 174. 174.  74. 142. 134. 208.\n",
      " 174. 208. 130. 208.  74. 130. 130. 174. 208. 508.  24. 136. 174. 264.\n",
      " 106. 136. 130.  74. 208. 142.  74. 142. 208.  74. 174. 202.  64. 142.\n",
      " 174. 142. 208. 174. 130. 208. 174.  94. 264. 208.  64. 174.  64. 264.\n",
      " 106. 208. 264. 174. 142. 130.  74. 134. 174. 174.  64. 204. 174. 174.\n",
      " 174. 174.  64. 208. 202. 174.  64. 174. 110. 142. 208. 174. 182. 106.\n",
      " 130. 136. 174. 174. 208. 542. 202. 174.  64. 208. 130. 174. 112. 202.\n",
      " 174. 130.  42. 202.  74. 208. 130. 150. 106. -34.]\n"
     ]
    }
   ],
   "source": [
    "import pandas\n",
    "from sklearn import linear_model\n",
    "\n",
    "df = pandas.read_csv(\"/Users/christopherbarnes/cmsc25910/Assignment6/cleandata.csv\")\n",
    "\n",
    "X = df[['latitude_41.7', 'latitude_41.8', 'latitude_41.9',\n",
    "       'latitude_42.0', 'longitude_-87.8', 'longitude_-87.7',\n",
    "       'longitude_-87.6', 'longitude_-87.5', 'room_type_Entire home/apt',\n",
    "       'room_type_Hotel room', 'room_type_Private room',\n",
    "       'room_type_Shared room', 'community_Central',\n",
    "       'community_Far North Side', 'community_Far Southeast Side',\n",
    "       'community_Far Southwest Side', 'community_North Side',\n",
    "       'community_Northwest Side', 'community_South Side',\n",
    "       'community_Southwest Side', 'community_West Side']]\n",
    "y = df['price']\n",
    "\n",
    "\n",
    "X_train, X_test, y_train, y_test = train_test_split(X, y, test_size=0.2, random_state=1234)\n",
    "\n",
    "\n",
    "regr = linear_model.LinearRegression()\n",
    "regr.fit(X_train, y_train)\n",
    "\n",
    "#predictedCO2 = regr.predict([[3300, 1300]])\n",
    "\n",
    "predicted = regr.predict(X_test)\n",
    "\n",
    "print(predicted)\n"
   ]
  },
  {
   "cell_type": "code",
   "execution_count": 69,
   "id": "5e6e6260",
   "metadata": {},
   "outputs": [
    {
     "name": "stdout",
     "output_type": "stream",
     "text": [
      "coefficients: \n",
      "[ 4.61069277e+15  4.61069277e+15  4.61069277e+15  4.61069277e+15\n",
      " -9.85258562e+14 -9.85258562e+14 -9.85258562e+14 -9.85258562e+14\n",
      "  2.52068371e+15  2.52068371e+15  2.52068371e+15  2.52068371e+15\n",
      "  7.09269848e+15  7.09269848e+15  7.09269848e+15  7.09269848e+15\n",
      "  7.09269848e+15  7.09269848e+15  7.09269848e+15  7.09269848e+15\n",
      "  7.09269848e+15]\n",
      "\n",
      "max price of the air bnb: \n",
      "10000\n",
      "\n",
      "mean square error: \n",
      "125210.58705882353\n",
      "\n",
      "root mean square error: \n",
      "353.85108034146725\n",
      "\n",
      "coefficient of determination: \n",
      "0.06474711996980087\n",
      "\n",
      "predicted values:\n",
      "[106.  64. 174. 202.  74. 264.  14. 106. 130. 142. 202. 174. 106. 208.\n",
      " 174. 142. 106.  64. 174. 106.  74. 174. 208.  74. 174.  84. 174. 142.\n",
      " 130. 174. 208. 208. 174.  84. 174. 130.  74. 182.  24.  74. 174. 156.\n",
      "  74. 208. 174.  74. 114.  24. 134. 174.  64. 174.  74. 208.  64. 130.\n",
      " 130.  68. 130. 174.  64. 186. 174. 208. 130. 174.  42.  14.  24. 208.\n",
      " 208. 208. 174. 174. 174. 114. 174. 202. 174.  96. 174.  74. 106. 174.\n",
      " 174. 174.  74. 542. 174. 174. 208.  84. 208. 106.  98. 174. 208. 542.\n",
      " -34.  64.  74. 208. 208. 106. 156.  92. 106.  64. 208. 208.  74. 142.\n",
      " 174. 174. 130. 208. 142. 174. 208. 174. 142. 114. 208. 110. 174. 174.\n",
      " 208. 208. 156. 202.  74. 174. 208. 106. 174.  74. 174. 208. 130. 130.\n",
      " 174. 174. 174. 174. 130. 114. 130. 174.  64. 130. 264. 130. 130. 174.\n",
      " 106. 208. 208. 112. 174. 208. 226. 130. 174. 174. 106. 110.  64. 174.\n",
      " 130. 106. 208. 174. 174. 174. 130. 174. 142.  64.  74. 174. 208.  64.\n",
      " 130. 174. 106. 174. 142. 208. 202. 208. 174. 208. 136. 130. 174. 174.\n",
      " 264. 202. 130. 202.  64. 174. 542. 130.  74. 174. 174.  74. 174. 174.\n",
      " 174. 106. 174. 208. 134. 130. 106.  74. 542. 174. 174. 208. 174. 106.\n",
      "  64. 174. 208. 204.  88. 208. 114. 174.  24. 106. 174. 114. 106. 208.\n",
      " 106. 264. 106. -34. 106. 174. 174. 174. 106.  64. 174. 208.  64. 202.\n",
      " 174. 174. 202. 174. 208. 130. 106. 174. 208. 142.  84.  64. 208. 208.\n",
      " 134.  64. 174.  46. 106. 142. 106.  88. 174.  74. 174.  64. 130. 106.\n",
      " 202. 178. 174. 208. 208. 112.  46. 208.  92. 142. 142. 174. 174. 174.\n",
      " 130. 174. 130. 202. 142. 208. 174. 174. 106. 174. 174. 130. 174.  74.\n",
      " 208. 174. 142. 174.  64. 174. 110.  92.  74. 130. 106. 174. 208.  88.\n",
      " 142. 174. 136. 142. 174. 174. 106. 174. 174. 174.  74. 208.  74. 134.\n",
      " 106. 136. 264. 208. 174. 106. 542. 142. 186. 174.  92. 142. 106. 174.\n",
      " 174. 130. 264. 150. 208. 208. 106. 174. 208. 142. 142. 174. 106. 106.\n",
      "  84.  74. 208. 112. 174. 542. 208. 130. 174. 106.  74. 106. 174. 174.\n",
      " 142. 130. 208. 174. 174. 174. 114. -34. 106. 182.  62. 208. 208. 202.\n",
      " 186. 130. 202. 208.  74. 174. 106. 142. 264. 208. 130.  92. 208. 208.\n",
      " 106. 174. 208. 208.  64. 208.  74. 174. 142. 208. 174. 106. 174. 542.\n",
      " 208. 208. 174. 130. 174.  24. 142.  92. 142. 208. 186.  54. 174. 202.\n",
      " 130. 208. 136. 204. 174. 142. 156. 208. 174. 106. 174. 264. 174. 208.\n",
      " 130. 130. 208.  68. 174. 142.  74.  64. 202. 264. 130. 174. 106. 130.\n",
      " 208. 174. 208. 142. 174. 174.  74.  74. 130. 150. 114. 202. 208. 130.\n",
      " 142. 508. 208. 202. 130. 174. 208. 174.  74. 136. 120.  24. 208. 174.\n",
      "   0.  64. 174. 150. 130. 174. 130. 106. 142. 208.  74. 106. 174.  74.\n",
      " 142. 106. 106. 202. 174. 208. 174. 142. 174. 174. 208.  64. 156. 142.\n",
      " 264. 142.  74. 264. 156.  62. 174. 208. 174. 142. 142. 142. 208. 174.\n",
      " 110. 208. 142. 130.  74. 174.  68. 112.  74. 264. 114.  68. 174. 208.\n",
      " 130. 174. 202. 142. 106. 130. 174. 130. 106.  74. 174. 174. 174.  74.\n",
      "  84. 174. 174. 134. 174. 174. 142. 106. 142. 208. 120. 208.  74. 106.\n",
      "  46. 202. 174.  74. 174. 130. 208. 208. 130. 130. 134. 136.  24. 174.\n",
      " 106. 208.   0. 136. 208. 174. 202. 208. 130.  24. 208.  92. 174. 106.\n",
      " 106. 142. 130. 506.  74. 110. 110. 174.  88. 174. 174. 174. 542. 208.\n",
      "  24.  68. 106. 106. 112. 174. 264. 466. 174. 182. 174.  74.  74. 174.\n",
      " 174. 174. 112. 174. 174. 202. 208.  74.  64. 106. 174. 130. 208. 174.\n",
      "  46. 174. 208. 208. 130.  24. 208. 130. 106. 208. 142. 208. 130. 106.\n",
      " 264. 174.  64.  64. 106.  74. 208.  74. 174. 264. 142. 106. 174. 106.\n",
      " 174. 150. 208. 174. 106. 142. 110.  46. 174. 202.  74.  64. 130. 174.\n",
      " 208. 174. 142. 208. 142.  64. 142. 174.  92. 174. 208. 142.  92.  64.\n",
      " 160. 174. 106. 130. 174. 130. 174.  84. 174. 208. 198.  64. 174.  88.\n",
      " 142. 130. 174. 208. 208. 174.  74. 106.  84. 106. 174. 112. 134. 174.\n",
      " 174. 202. 130. 174. 174. 208.  84. 142.  64. 208. 174. 130. 208. 208.\n",
      "  24.  92. 156. 142. 174. 142.  74.  68. 174. 174.  74. 142. 134. 208.\n",
      " 174. 208. 130. 208.  74. 130. 130. 174. 208. 508.  24. 136. 174. 264.\n",
      " 106. 136. 130.  74. 208. 142.  74. 142. 208.  74. 174. 202.  64. 142.\n",
      " 174. 142. 208. 174. 130. 208. 174.  94. 264. 208.  64. 174.  64. 264.\n",
      " 106. 208. 264. 174. 142. 130.  74. 134. 174. 174.  64. 204. 174. 174.\n",
      " 174. 174.  64. 208. 202. 174.  64. 174. 110. 142. 208. 174. 182. 106.\n",
      " 130. 136. 174. 174. 208. 542. 202. 174.  64. 208. 130. 174. 112. 202.\n",
      " 174. 130.  42. 202.  74. 208. 130. 150. 106. -34.]\n"
     ]
    }
   ],
   "source": [
    "#finding the root mean square\n",
    "import sklearn\n",
    "import math\n",
    "mse = sklearn.metrics.mean_squared_error(y_test, predicted)\n",
    "rmse = math.sqrt(mse)\n",
    "r_sq = model.score(X_test, y_test)\n",
    "\n",
    "max_price = df['price'].max()\n",
    "\n",
    "print('coefficients: ')\n",
    "print(regr.coef_)\n",
    "print('')\n",
    "print('max price of the air bnb: ')\n",
    "print(max_price)\n",
    "print('')\n",
    "print('mean square error: ')\n",
    "print(mse)\n",
    "print('')\n",
    "print('root mean square error: ')\n",
    "print(rmse)\n",
    "print('')\n",
    "print('coefficient of determination: ')\n",
    "print(r_sq)\n",
    "print('')\n",
    "print('predicted values:')\n",
    "print(predicted)\n"
   ]
  },
  {
   "cell_type": "code",
   "execution_count": 76,
   "id": "e58bf689",
   "metadata": {},
   "outputs": [
    {
     "data": {
      "image/png": "[encoded data removed]",
      "text/plain": [
       "<Figure size 432x288 with 1 Axes>"
      ]
     },
     "metadata": {
      "needs_background": "light"
     },
     "output_type": "display_data"
    }
   ],
   "source": [
    "plt.scatter(X_test['latitude_41.8'], predicted)\n",
    "plt.title('Latitude 41.8 versus price of AirBnb')\n",
    "plt.xlabel('Binary Latitude 41.8')\n",
    "plt.ylabel('Price of AirBnb in USD')\n",
    "plt.show()"
   ]
  },
  {
   "cell_type": "code",
   "execution_count": 77,
   "id": "898e337f",
   "metadata": {},
   "outputs": [
    {
     "data": {
      "image/png": "[encoded data removed]",
      "text/plain": [
       "<Figure size 432x288 with 1 Axes>"
      ]
     },
     "metadata": {
      "needs_background": "light"
     },
     "output_type": "display_data"
    }
   ],
   "source": [
    "plt.scatter(X_test['longitude_-87.7'], predicted)\n",
    "plt.title('Longitude -87.7 versus price of AirBnb')\n",
    "plt.xlabel('Binary Longitude -87.7')\n",
    "plt.ylabel('Price of AirBnb in USD')\n",
    "plt.show()"
   ]
  },
  {
   "cell_type": "code",
   "execution_count": 78,
   "id": "3ecc09f1",
   "metadata": {},
   "outputs": [
    {
     "data": {
      "image/png": "[encoded data removed]",
      "text/plain": [
       "<Figure size 432x288 with 1 Axes>"
      ]
     },
     "metadata": {
      "needs_background": "light"
     },
     "output_type": "display_data"
    }
   ],
   "source": [
    "plt.scatter(X_test['room_type_Shared room'], predicted)\n",
    "plt.title('Shared Room versus price of AirBnb')\n",
    "plt.xlabel('Binary Shared Room')\n",
    "plt.ylabel('Price of AirBnb in USD')\n",
    "plt.show()"
   ]
  },
  {
   "cell_type": "code",
   "execution_count": 79,
   "id": "989b0c5d",
   "metadata": {},
   "outputs": [
    {
     "data": {
      "image/png": "[encoded data removed]",
      "text/plain": [
       "<Figure size 432x288 with 1 Axes>"
      ]
     },
     "metadata": {
      "needs_background": "light"
     },
     "output_type": "display_data"
    }
   ],
   "source": [
    "plt.scatter(X_test['community_West Side'], predicted)\n",
    "plt.title('West Side Community versus price of AirBnb')\n",
    "plt.xlabel('Binary West Side Community')\n",
    "plt.ylabel('Price of AirBnb in USD')\n",
    "plt.show()"
   ]
  },
  {
   "cell_type": "code",
   "execution_count": 42,
   "id": "1c246215",
   "metadata": {},
   "outputs": [
    {
     "name": "stdout",
     "output_type": "stream",
     "text": [
      "Feature: 0, Score: 4610692765689105.00000\n",
      "Feature: 1, Score: 4610692765689112.00000\n",
      "Feature: 2, Score: 4610692765689157.00000\n",
      "Feature: 3, Score: 4610692765689247.00000\n",
      "Feature: 4, Score: -985258561762216.37500\n",
      "Feature: 5, Score: -985258561762197.00000\n",
      "Feature: 6, Score: -985258561762168.50000\n",
      "Feature: 7, Score: -985258561762101.50000\n",
      "Feature: 8, Score: 2520683712428217.00000\n",
      "Feature: 9, Score: 2520683712428549.50000\n",
      "Feature: 10, Score: 2520683712428149.50000\n",
      "Feature: 11, Score: 2520683712428117.00000\n",
      "Feature: 12, Score: 7092698479510621.00000\n",
      "Feature: 13, Score: 7092698479510483.00000\n",
      "Feature: 14, Score: 7092698479510532.00000\n",
      "Feature: 15, Score: 7092698479510585.00000\n",
      "Feature: 16, Score: 7092698479510616.00000\n",
      "Feature: 17, Score: 7092698479510552.00000\n",
      "Feature: 18, Score: 7092698479510600.00000\n",
      "Feature: 19, Score: 7092698479510636.00000\n",
      "Feature: 20, Score: 7092698479510616.00000\n"
     ]
    },
    {
     "data": {
      "image/png": "[encoded data removed]",
      "text/plain": [
       "<Figure size 432x288 with 1 Axes>"
      ]
     },
     "metadata": {
      "needs_background": "light"
     },
     "output_type": "display_data"
    },
    {
     "data": {
      "text/plain": [
       "\"\\ndf[['latitude_41.7', 'latitude_41.8', 'latitude_41.9',\\n       'latitude_42.0', 'longitude_-87.8', 'longitude_-87.7',\\n       'longitude_-87.6', 'longitude_-87.5', 'room_type_Entire home/apt',\\n       'room_type_Hotel room', 'room_type_Private room',\\n       'room_type_Shared room', 'community_Central',\\n       'community_Far North Side', 'community_Far Southeast Side',\\n       'community_Far Southwest Side', 'community_North Side',\\n       'community_Northwest Side', 'community_South Side',\\n       'community_Southwest Side', 'community_West Side']]\\n\""
      ]
     },
     "execution_count": 42,
     "metadata": {},
     "output_type": "execute_result"
    }
   ],
   "source": [
    "import matplotlib.pyplot as plt\n",
    "# get importance\n",
    "importance = regr.coef_\n",
    "# summarize feature importance\n",
    "for i,v in enumerate(importance):\n",
    "\tprint('Feature: %0d, Score: %.5f' % (i,v))\n",
    "# plot feature importance\n",
    "plt.bar([x for x in range(len(importance))], importance)\n",
    "plt.show()\n",
    "\n",
    "'''\n",
    "df[['latitude_41.7', 'latitude_41.8', 'latitude_41.9',\n",
    "       'latitude_42.0', 'longitude_-87.8', 'longitude_-87.7',\n",
    "       'longitude_-87.6', 'longitude_-87.5', 'room_type_Entire home/apt',\n",
    "       'room_type_Hotel room', 'room_type_Private room',\n",
    "       'room_type_Shared room', 'community_Central',\n",
    "       'community_Far North Side', 'community_Far Southeast Side',\n",
    "       'community_Far Southwest Side', 'community_North Side',\n",
    "       'community_Northwest Side', 'community_South Side',\n",
    "       'community_Southwest Side', 'community_West Side']]\n",
    "'''"
   ]
  },
  {
   "cell_type": "code",
   "execution_count": null,
   "id": "5ed95504",
   "metadata": {},
   "outputs": [],
   "source": []
  },
  {
   "cell_type": "code",
   "execution_count": null,
   "id": "60b1943b",
   "metadata": {},
   "outputs": [],
   "source": []
  },
  {
   "cell_type": "code",
   "execution_count": null,
   "id": "f8819b0e",
   "metadata": {},
   "outputs": [],
   "source": []
  },
  {
   "cell_type": "code",
   "execution_count": null,
   "id": "74256231",
   "metadata": {},
   "outputs": [],
   "source": []
  },
  {
   "cell_type": "code",
   "execution_count": null,
   "id": "1e59c1cc",
   "metadata": {},
   "outputs": [],
   "source": []
  },
  {
   "cell_type": "code",
   "execution_count": null,
   "id": "01dd059d",
   "metadata": {},
   "outputs": [],
   "source": []
  },
  {
   "cell_type": "code",
   "execution_count": null,
   "id": "df5a1689",
   "metadata": {},
   "outputs": [],
   "source": []
  },
  {
   "cell_type": "code",
   "execution_count": null,
   "id": "201b13f8",
   "metadata": {},
   "outputs": [],
   "source": []
  },
  {
   "cell_type": "code",
   "execution_count": null,
   "id": "29d79e3e",
   "metadata": {},
   "outputs": [],
   "source": []
  }
 ],
 "metadata": {
  "kernelspec": {
   "display_name": "Python 3 (ipykernel)",
   "language": "python",
   "name": "python3"
  },
  "language_info": {
   "codemirror_mode": {
    "name": "ipython",
    "version": 3
   },
   "file_extension": ".py",
   "mimetype": "text/x-python",
   "name": "python",
   "nbconvert_exporter": "python",
   "pygments_lexer": "ipython3",
   "version": "3.8.6"
  }
 },
 "nbformat": 4,
 "nbformat_minor": 5
}
